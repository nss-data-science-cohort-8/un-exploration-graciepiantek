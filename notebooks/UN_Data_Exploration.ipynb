{
 "cells": [
  {
   "cell_type": "markdown",
   "id": "701f78b1-aba5-4fc4-a5a0-e14b717856a8",
   "metadata": {},
   "source": [
    "**3.**  In the first cell of your notebook, import the required packages with their customary aliases as follows:"
   ]
  },
  {
   "cell_type": "code",
   "execution_count": 2,
   "id": "1bd49144-f2dd-4492-9661-96315506ea1c",
   "metadata": {},
   "outputs": [],
   "source": [
    "import pandas as pd\n",
    "import numpy as np\n",
    "import matplotlib.pyplot as plt\n",
    "import seaborn as sns"
   ]
  },
  {
   "cell_type": "markdown",
   "id": "8886cd82-6101-4fb7-8720-3db6260e68fb",
   "metadata": {},
   "source": [
    "**4.** Using the pandas read_csv() function, read the GDP dataset into your notebook as a DataFrame called gdp_df. After reading it in, inspect the first 10 rows and then inspect the last 10 rows."
   ]
  },
  {
   "cell_type": "code",
   "execution_count": 4,
   "id": "f2da0568-0ee1-4441-9cb0-c8cc9e04ed8b",
   "metadata": {},
   "outputs": [],
   "source": [
    "gdp_df = pd.read_csv(\"../data/gdp_per_capita.csv\")"
   ]
  },
  {
   "cell_type": "code",
   "execution_count": 5,
   "id": "d2a5c25a-0855-412c-8196-7bdf02e582ca",
   "metadata": {},
   "outputs": [
    {
     "data": {
      "text/html": [
       "<div>\n",
       "<style scoped>\n",
       "    .dataframe tbody tr th:only-of-type {\n",
       "        vertical-align: middle;\n",
       "    }\n",
       "\n",
       "    .dataframe tbody tr th {\n",
       "        vertical-align: top;\n",
       "    }\n",
       "\n",
       "    .dataframe thead th {\n",
       "        text-align: right;\n",
       "    }\n",
       "</style>\n",
       "<table border=\"1\" class=\"dataframe\">\n",
       "  <thead>\n",
       "    <tr style=\"text-align: right;\">\n",
       "      <th></th>\n",
       "      <th>Country or Area</th>\n",
       "      <th>Year</th>\n",
       "      <th>Value</th>\n",
       "      <th>Value Footnotes</th>\n",
       "    </tr>\n",
       "  </thead>\n",
       "  <tbody>\n",
       "    <tr>\n",
       "      <th>0</th>\n",
       "      <td>Afghanistan</td>\n",
       "      <td>2021</td>\n",
       "      <td>1517.016266</td>\n",
       "      <td>NaN</td>\n",
       "    </tr>\n",
       "    <tr>\n",
       "      <th>1</th>\n",
       "      <td>Afghanistan</td>\n",
       "      <td>2020</td>\n",
       "      <td>1968.341002</td>\n",
       "      <td>NaN</td>\n",
       "    </tr>\n",
       "    <tr>\n",
       "      <th>2</th>\n",
       "      <td>Afghanistan</td>\n",
       "      <td>2019</td>\n",
       "      <td>2079.921861</td>\n",
       "      <td>NaN</td>\n",
       "    </tr>\n",
       "    <tr>\n",
       "      <th>3</th>\n",
       "      <td>Afghanistan</td>\n",
       "      <td>2018</td>\n",
       "      <td>2060.698973</td>\n",
       "      <td>NaN</td>\n",
       "    </tr>\n",
       "    <tr>\n",
       "      <th>4</th>\n",
       "      <td>Afghanistan</td>\n",
       "      <td>2017</td>\n",
       "      <td>2096.093111</td>\n",
       "      <td>NaN</td>\n",
       "    </tr>\n",
       "    <tr>\n",
       "      <th>5</th>\n",
       "      <td>Afghanistan</td>\n",
       "      <td>2016</td>\n",
       "      <td>2101.422187</td>\n",
       "      <td>NaN</td>\n",
       "    </tr>\n",
       "    <tr>\n",
       "      <th>6</th>\n",
       "      <td>Afghanistan</td>\n",
       "      <td>2015</td>\n",
       "      <td>2108.714173</td>\n",
       "      <td>NaN</td>\n",
       "    </tr>\n",
       "    <tr>\n",
       "      <th>7</th>\n",
       "      <td>Afghanistan</td>\n",
       "      <td>2014</td>\n",
       "      <td>2144.449634</td>\n",
       "      <td>NaN</td>\n",
       "    </tr>\n",
       "    <tr>\n",
       "      <th>8</th>\n",
       "      <td>Afghanistan</td>\n",
       "      <td>2013</td>\n",
       "      <td>2165.340915</td>\n",
       "      <td>NaN</td>\n",
       "    </tr>\n",
       "    <tr>\n",
       "      <th>9</th>\n",
       "      <td>Afghanistan</td>\n",
       "      <td>2012</td>\n",
       "      <td>2122.830759</td>\n",
       "      <td>NaN</td>\n",
       "    </tr>\n",
       "  </tbody>\n",
       "</table>\n",
       "</div>"
      ],
      "text/plain": [
       "  Country or Area  Year        Value  Value Footnotes\n",
       "0     Afghanistan  2021  1517.016266              NaN\n",
       "1     Afghanistan  2020  1968.341002              NaN\n",
       "2     Afghanistan  2019  2079.921861              NaN\n",
       "3     Afghanistan  2018  2060.698973              NaN\n",
       "4     Afghanistan  2017  2096.093111              NaN\n",
       "5     Afghanistan  2016  2101.422187              NaN\n",
       "6     Afghanistan  2015  2108.714173              NaN\n",
       "7     Afghanistan  2014  2144.449634              NaN\n",
       "8     Afghanistan  2013  2165.340915              NaN\n",
       "9     Afghanistan  2012  2122.830759              NaN"
      ]
     },
     "execution_count": 5,
     "metadata": {},
     "output_type": "execute_result"
    }
   ],
   "source": [
    "gdp_df.head(10)"
   ]
  },
  {
   "cell_type": "code",
   "execution_count": 6,
   "id": "a334e0c5-e5e6-40af-b3ee-412637521810",
   "metadata": {},
   "outputs": [
    {
     "data": {
      "text/html": [
       "<div>\n",
       "<style scoped>\n",
       "    .dataframe tbody tr th:only-of-type {\n",
       "        vertical-align: middle;\n",
       "    }\n",
       "\n",
       "    .dataframe tbody tr th {\n",
       "        vertical-align: top;\n",
       "    }\n",
       "\n",
       "    .dataframe thead th {\n",
       "        text-align: right;\n",
       "    }\n",
       "</style>\n",
       "<table border=\"1\" class=\"dataframe\">\n",
       "  <thead>\n",
       "    <tr style=\"text-align: right;\">\n",
       "      <th></th>\n",
       "      <th>Country or Area</th>\n",
       "      <th>Year</th>\n",
       "      <th>Value</th>\n",
       "      <th>Value Footnotes</th>\n",
       "    </tr>\n",
       "  </thead>\n",
       "  <tbody>\n",
       "    <tr>\n",
       "      <th>7652</th>\n",
       "      <td>Zimbabwe</td>\n",
       "      <td>1999</td>\n",
       "      <td>2866.032886</td>\n",
       "      <td>NaN</td>\n",
       "    </tr>\n",
       "    <tr>\n",
       "      <th>7653</th>\n",
       "      <td>Zimbabwe</td>\n",
       "      <td>1998</td>\n",
       "      <td>2931.725144</td>\n",
       "      <td>NaN</td>\n",
       "    </tr>\n",
       "    <tr>\n",
       "      <th>7654</th>\n",
       "      <td>Zimbabwe</td>\n",
       "      <td>1997</td>\n",
       "      <td>2896.147308</td>\n",
       "      <td>NaN</td>\n",
       "    </tr>\n",
       "    <tr>\n",
       "      <th>7655</th>\n",
       "      <td>Zimbabwe</td>\n",
       "      <td>1996</td>\n",
       "      <td>2867.026043</td>\n",
       "      <td>NaN</td>\n",
       "    </tr>\n",
       "    <tr>\n",
       "      <th>7656</th>\n",
       "      <td>Zimbabwe</td>\n",
       "      <td>1995</td>\n",
       "      <td>2641.378271</td>\n",
       "      <td>NaN</td>\n",
       "    </tr>\n",
       "    <tr>\n",
       "      <th>7657</th>\n",
       "      <td>Zimbabwe</td>\n",
       "      <td>1994</td>\n",
       "      <td>2670.106615</td>\n",
       "      <td>NaN</td>\n",
       "    </tr>\n",
       "    <tr>\n",
       "      <th>7658</th>\n",
       "      <td>Zimbabwe</td>\n",
       "      <td>1993</td>\n",
       "      <td>2458.783255</td>\n",
       "      <td>NaN</td>\n",
       "    </tr>\n",
       "    <tr>\n",
       "      <th>7659</th>\n",
       "      <td>Zimbabwe</td>\n",
       "      <td>1992</td>\n",
       "      <td>2468.278257</td>\n",
       "      <td>NaN</td>\n",
       "    </tr>\n",
       "    <tr>\n",
       "      <th>7660</th>\n",
       "      <td>Zimbabwe</td>\n",
       "      <td>1991</td>\n",
       "      <td>2781.787843</td>\n",
       "      <td>NaN</td>\n",
       "    </tr>\n",
       "    <tr>\n",
       "      <th>7661</th>\n",
       "      <td>Zimbabwe</td>\n",
       "      <td>1990</td>\n",
       "      <td>2704.757299</td>\n",
       "      <td>NaN</td>\n",
       "    </tr>\n",
       "  </tbody>\n",
       "</table>\n",
       "</div>"
      ],
      "text/plain": [
       "     Country or Area  Year        Value  Value Footnotes\n",
       "7652        Zimbabwe  1999  2866.032886              NaN\n",
       "7653        Zimbabwe  1998  2931.725144              NaN\n",
       "7654        Zimbabwe  1997  2896.147308              NaN\n",
       "7655        Zimbabwe  1996  2867.026043              NaN\n",
       "7656        Zimbabwe  1995  2641.378271              NaN\n",
       "7657        Zimbabwe  1994  2670.106615              NaN\n",
       "7658        Zimbabwe  1993  2458.783255              NaN\n",
       "7659        Zimbabwe  1992  2468.278257              NaN\n",
       "7660        Zimbabwe  1991  2781.787843              NaN\n",
       "7661        Zimbabwe  1990  2704.757299              NaN"
      ]
     },
     "execution_count": 6,
     "metadata": {},
     "output_type": "execute_result"
    }
   ],
   "source": [
    "gdp_df.tail(10)"
   ]
  },
  {
   "cell_type": "markdown",
   "id": "4795af61-8d89-466d-acae-df5cc77f78fd",
   "metadata": {},
   "source": [
    "**5.** Drop the 'Value Footnotes' column, and rename the remaining columns to 'Country', 'Year', and 'GDP_Per_Capita'."
   ]
  },
  {
   "cell_type": "code",
   "execution_count": 8,
   "id": "0bb09071-83aa-4332-9c42-0294db5d1b7d",
   "metadata": {},
   "outputs": [],
   "source": [
    "gdp_df = ( \n",
    "    gdp_df\n",
    "    .drop(columns=['Value Footnotes'])\n",
    "    .rename(columns={'Country or Area': 'Country', 'Value': 'GDP_Per_Capita'})\n",
    ")"
   ]
  },
  {
   "cell_type": "markdown",
   "id": "1ee919b7-b2d5-468d-bce8-03e6e685b632",
   "metadata": {},
   "source": [
    "**6.** How many rows and columns does gdp_df have? What are the data types of its columns? If any of the columns are not the expected types, figure out why and fix it."
   ]
  },
  {
   "cell_type": "code",
   "execution_count": 10,
   "id": "652948ec-b845-4e98-9873-ba113b179dcd",
   "metadata": {},
   "outputs": [
    {
     "data": {
      "text/plain": [
       "(7662, 3)"
      ]
     },
     "execution_count": 10,
     "metadata": {},
     "output_type": "execute_result"
    }
   ],
   "source": [
    "gdp_df.shape"
   ]
  },
  {
   "cell_type": "code",
   "execution_count": 11,
   "id": "cf95d8cb-1f1d-4b2e-a36f-d2000706ac83",
   "metadata": {},
   "outputs": [
    {
     "data": {
      "text/plain": [
       "Country            object\n",
       "Year                int64\n",
       "GDP_Per_Capita    float64\n",
       "dtype: object"
      ]
     },
     "execution_count": 11,
     "metadata": {},
     "output_type": "execute_result"
    }
   ],
   "source": [
    "gdp_df.dtypes"
   ]
  },
  {
   "cell_type": "code",
   "execution_count": 12,
   "id": "92fbe857-dc8e-479a-a577-d22cddb7dd57",
   "metadata": {},
   "outputs": [],
   "source": [
    "gdp_df['Year'] = gdp_df['Year'].astype(str)"
   ]
  },
  {
   "cell_type": "markdown",
   "id": "67d95273-852f-4ab2-bef6-28fe4b833340",
   "metadata": {},
   "source": [
    "**7.** Which years are represented in this dataset? Take a look at the number of observations per year. What do you notice?"
   ]
  },
  {
   "cell_type": "code",
   "execution_count": 14,
   "id": "42b3fe8f-d2df-4ea1-b88a-1ad4d099fdf8",
   "metadata": {},
   "outputs": [
    {
     "data": {
      "text/plain": [
       "Year\n",
       "1990    207\n",
       "1991    208\n",
       "1992    210\n",
       "1993    211\n",
       "1994    213\n",
       "1995    223\n",
       "1996    223\n",
       "1997    226\n",
       "1998    226\n",
       "1999    227\n",
       "2022    232\n",
       "2000    233\n",
       "2001    234\n",
       "2002    235\n",
       "2003    235\n",
       "2005    236\n",
       "2004    236\n",
       "2007    237\n",
       "2006    237\n",
       "2008    238\n",
       "2009    239\n",
       "2010    239\n",
       "2011    240\n",
       "2012    240\n",
       "2021    241\n",
       "2019    242\n",
       "2018    242\n",
       "2017    242\n",
       "2020    242\n",
       "2015    242\n",
       "2014    242\n",
       "2016    242\n",
       "2013    242\n",
       "Name: count, dtype: int64"
      ]
     },
     "execution_count": 14,
     "metadata": {},
     "output_type": "execute_result"
    }
   ],
   "source": [
    "gdp_df['Year'].value_counts().sort_values()"
   ]
  },
  {
   "cell_type": "markdown",
   "id": "c04043cf-7539-4bf9-8173-c246827ab0cc",
   "metadata": {},
   "source": [
    "**There were generally increasing observations until 2022 where it decreased to 232 observations and the dataset subsequently ends.**"
   ]
  },
  {
   "cell_type": "markdown",
   "id": "7c76429d-547d-4f1a-b341-7051cc325302",
   "metadata": {},
   "source": [
    "**8.** How many countries are represented in this dataset? Which countries are least represented in the dataset? Why do you think these countries have so few observations?"
   ]
  },
  {
   "cell_type": "code",
   "execution_count": 17,
   "id": "22da5d25-0a15-4f07-b4cb-1b4746b442e7",
   "metadata": {},
   "outputs": [
    {
     "data": {
      "text/plain": [
       "Country\n",
       "Djibouti                     10\n",
       "Somalia                      10\n",
       "Turks and Caicos Islands     12\n",
       "Sint Maarten (Dutch part)    14\n",
       "Kosovo                       15\n",
       "                             ..\n",
       "Jamaica                      33\n",
       "Japan                        33\n",
       "Jordan                       33\n",
       "IDA total                    33\n",
       "Zimbabwe                     33\n",
       "Name: count, Length: 242, dtype: int64"
      ]
     },
     "execution_count": 17,
     "metadata": {},
     "output_type": "execute_result"
    }
   ],
   "source": [
    "gdp_df['Country'].value_counts(ascending = True)"
   ]
  },
  {
   "cell_type": "markdown",
   "id": "25b5fc99-fd4b-49bc-b309-7ec77210b41b",
   "metadata": {},
   "source": [
    "**There are 242 countries, territories, or groups observed in the dataset. Most of the larger or more developed countries have more observations recorded.**"
   ]
  },
  {
   "cell_type": "markdown",
   "id": "d7c130af-be2b-4e11-a79d-911c26779d07",
   "metadata": {},
   "source": [
    "**9.** Create a new dataframe by subsetting gdp_df to just the year 2021. Call this new dataframe gdp_20121."
   ]
  },
  {
   "cell_type": "code",
   "execution_count": 20,
   "id": "4a919c92-f1f8-45f1-bcef-65b751228bb1",
   "metadata": {},
   "outputs": [],
   "source": [
    "gdp_2021 = gdp_df[gdp_df['Year'] == '2021'].reset_index(drop=True)"
   ]
  },
  {
   "cell_type": "markdown",
   "id": "4ae20f6e-3a36-4194-868f-381dc4b9e057",
   "metadata": {},
   "source": [
    "**10.** Use .describe() to find the summary statistics for GDP per capita in 2021."
   ]
  },
  {
   "cell_type": "code",
   "execution_count": 22,
   "id": "adf87993-85e2-47d3-8d07-cfdd603e6b65",
   "metadata": {},
   "outputs": [
    {
     "data": {
      "text/html": [
       "<div>\n",
       "<style scoped>\n",
       "    .dataframe tbody tr th:only-of-type {\n",
       "        vertical-align: middle;\n",
       "    }\n",
       "\n",
       "    .dataframe tbody tr th {\n",
       "        vertical-align: top;\n",
       "    }\n",
       "\n",
       "    .dataframe thead th {\n",
       "        text-align: right;\n",
       "    }\n",
       "</style>\n",
       "<table border=\"1\" class=\"dataframe\">\n",
       "  <thead>\n",
       "    <tr style=\"text-align: right;\">\n",
       "      <th></th>\n",
       "      <th>GDP_Per_Capita</th>\n",
       "    </tr>\n",
       "  </thead>\n",
       "  <tbody>\n",
       "    <tr>\n",
       "      <th>count</th>\n",
       "      <td>241.000000</td>\n",
       "    </tr>\n",
       "    <tr>\n",
       "      <th>mean</th>\n",
       "      <td>20711.570080</td>\n",
       "    </tr>\n",
       "    <tr>\n",
       "      <th>std</th>\n",
       "      <td>20916.978968</td>\n",
       "    </tr>\n",
       "    <tr>\n",
       "      <th>min</th>\n",
       "      <td>714.066712</td>\n",
       "    </tr>\n",
       "    <tr>\n",
       "      <th>25%</th>\n",
       "      <td>5044.196028</td>\n",
       "    </tr>\n",
       "    <tr>\n",
       "      <th>50%</th>\n",
       "      <td>13754.802423</td>\n",
       "    </tr>\n",
       "    <tr>\n",
       "      <th>75%</th>\n",
       "      <td>30974.370692</td>\n",
       "    </tr>\n",
       "    <tr>\n",
       "      <th>max</th>\n",
       "      <td>115683.493708</td>\n",
       "    </tr>\n",
       "  </tbody>\n",
       "</table>\n",
       "</div>"
      ],
      "text/plain": [
       "       GDP_Per_Capita\n",
       "count      241.000000\n",
       "mean     20711.570080\n",
       "std      20916.978968\n",
       "min        714.066712\n",
       "25%       5044.196028\n",
       "50%      13754.802423\n",
       "75%      30974.370692\n",
       "max     115683.493708"
      ]
     },
     "execution_count": 22,
     "metadata": {},
     "output_type": "execute_result"
    }
   ],
   "source": [
    "gdp_2021.describe()"
   ]
  },
  {
   "cell_type": "markdown",
   "id": "bf7d2cde-aca8-42d9-ac81-71a574ead169",
   "metadata": {},
   "source": [
    "**11.** Create a histogram of GDP Per Capita numbers for 2021 (you may wish to adjust the number of bins for your histogram). How would you describe the shape of the distribution?"
   ]
  },
  {
   "cell_type": "code",
   "execution_count": 24,
   "id": "4305035e-1109-41b4-ad12-95eeae65371b",
   "metadata": {},
   "outputs": [
    {
     "data": {
      "image/png": "[encoded data removed]",
      "text/plain": [
       "<Figure size 640x480 with 1 Axes>"
      ]
     },
     "metadata": {},
     "output_type": "display_data"
    }
   ],
   "source": [
    "plt.hist(\n",
    "    data=gdp_2021,\n",
    "    x='GDP_Per_Capita',\n",
    "        edgecolor='black',\n",
    "    linewidth=1,\n",
    "    bins=\"auto\"\n",
    ")\n",
    "plt.xlabel('Frequency of GDP')                            \n",
    "plt.ylabel('GDP Per Capita')\n",
    "plt.title('GDP Per Capita numbers for 2021');"
   ]
  },
  {
   "cell_type": "markdown",
   "id": "d60765a4-abc7-444f-89c2-c0f2436e1129",
   "metadata": {},
   "source": [
    "**12.** Find the top 5 countries and bottom 5 countries by GDP per capita in 2021."
   ]
  },
  {
   "cell_type": "code",
   "execution_count": 26,
   "id": "4c570263-ebdb-46e5-af6b-e4bd09054b43",
   "metadata": {},
   "outputs": [
    {
     "data": {
      "text/html": [
       "<div>\n",
       "<style scoped>\n",
       "    .dataframe tbody tr th:only-of-type {\n",
       "        vertical-align: middle;\n",
       "    }\n",
       "\n",
       "    .dataframe tbody tr th {\n",
       "        vertical-align: top;\n",
       "    }\n",
       "\n",
       "    .dataframe thead th {\n",
       "        text-align: right;\n",
       "    }\n",
       "</style>\n",
       "<table border=\"1\" class=\"dataframe\">\n",
       "  <thead>\n",
       "    <tr style=\"text-align: right;\">\n",
       "      <th></th>\n",
       "      <th>Country</th>\n",
       "      <th>Year</th>\n",
       "      <th>GDP_Per_Capita</th>\n",
       "    </tr>\n",
       "  </thead>\n",
       "  <tbody>\n",
       "    <tr>\n",
       "      <th>130</th>\n",
       "      <td>Luxembourg</td>\n",
       "      <td>2021</td>\n",
       "      <td>115683.493708</td>\n",
       "    </tr>\n",
       "    <tr>\n",
       "      <th>192</th>\n",
       "      <td>Singapore</td>\n",
       "      <td>2021</td>\n",
       "      <td>107741.118436</td>\n",
       "    </tr>\n",
       "    <tr>\n",
       "      <th>102</th>\n",
       "      <td>Ireland</td>\n",
       "      <td>2021</td>\n",
       "      <td>102785.490239</td>\n",
       "    </tr>\n",
       "    <tr>\n",
       "      <th>180</th>\n",
       "      <td>Qatar</td>\n",
       "      <td>2021</td>\n",
       "      <td>92862.571798</td>\n",
       "    </tr>\n",
       "    <tr>\n",
       "      <th>21</th>\n",
       "      <td>Bermuda</td>\n",
       "      <td>2021</td>\n",
       "      <td>78570.489515</td>\n",
       "    </tr>\n",
       "  </tbody>\n",
       "</table>\n",
       "</div>"
      ],
      "text/plain": [
       "        Country  Year  GDP_Per_Capita\n",
       "130  Luxembourg  2021   115683.493708\n",
       "192   Singapore  2021   107741.118436\n",
       "102     Ireland  2021   102785.490239\n",
       "180       Qatar  2021    92862.571798\n",
       "21      Bermuda  2021    78570.489515"
      ]
     },
     "execution_count": 26,
     "metadata": {},
     "output_type": "execute_result"
    }
   ],
   "source": [
    "gdp_2021.nlargest(5, 'GDP_Per_Capita')"
   ]
  },
  {
   "cell_type": "code",
   "execution_count": 27,
   "id": "105a6399-463e-4982-a7b8-54fc1ca6daff",
   "metadata": {},
   "outputs": [
    {
     "data": {
      "text/html": [
       "<div>\n",
       "<style scoped>\n",
       "    .dataframe tbody tr th:only-of-type {\n",
       "        vertical-align: middle;\n",
       "    }\n",
       "\n",
       "    .dataframe tbody tr th {\n",
       "        vertical-align: top;\n",
       "    }\n",
       "\n",
       "    .dataframe thead th {\n",
       "        text-align: right;\n",
       "    }\n",
       "</style>\n",
       "<table border=\"1\" class=\"dataframe\">\n",
       "  <thead>\n",
       "    <tr style=\"text-align: right;\">\n",
       "      <th></th>\n",
       "      <th>Country</th>\n",
       "      <th>Year</th>\n",
       "      <th>GDP_Per_Capita</th>\n",
       "    </tr>\n",
       "  </thead>\n",
       "  <tbody>\n",
       "    <tr>\n",
       "      <th>30</th>\n",
       "      <td>Burundi</td>\n",
       "      <td>2021</td>\n",
       "      <td>714.066712</td>\n",
       "    </tr>\n",
       "    <tr>\n",
       "      <th>38</th>\n",
       "      <td>Central African Republic</td>\n",
       "      <td>2021</td>\n",
       "      <td>837.504686</td>\n",
       "    </tr>\n",
       "    <tr>\n",
       "      <th>51</th>\n",
       "      <td>Dem. Rep. Congo</td>\n",
       "      <td>2021</td>\n",
       "      <td>1073.643271</td>\n",
       "    </tr>\n",
       "    <tr>\n",
       "      <th>198</th>\n",
       "      <td>Somalia</td>\n",
       "      <td>2021</td>\n",
       "      <td>1136.735989</td>\n",
       "    </tr>\n",
       "    <tr>\n",
       "      <th>159</th>\n",
       "      <td>Niger</td>\n",
       "      <td>2021</td>\n",
       "      <td>1186.576809</td>\n",
       "    </tr>\n",
       "  </tbody>\n",
       "</table>\n",
       "</div>"
      ],
      "text/plain": [
       "                      Country  Year  GDP_Per_Capita\n",
       "30                    Burundi  2021      714.066712\n",
       "38   Central African Republic  2021      837.504686\n",
       "51            Dem. Rep. Congo  2021     1073.643271\n",
       "198                   Somalia  2021     1136.735989\n",
       "159                     Niger  2021     1186.576809"
      ]
     },
     "execution_count": 27,
     "metadata": {},
     "output_type": "execute_result"
    }
   ],
   "source": [
    "gdp_2021.nsmallest(5, 'GDP_Per_Capita')"
   ]
  },
  {
   "cell_type": "markdown",
   "id": "71ab2fc1-47ba-4859-bf4d-699016f1fbc9",
   "metadata": {},
   "source": [
    "**13.** Now, return to the full dataset, gdp_df. Pivot the data for 1990 and 2021 (using the pandas .pivot_table() method or another method) so that each row corresponds to a country, each column corresponds to a year, and the values in the table give the GDP_Per_Capita amount. Drop any rows that are missing values for either 1990 or 2021. Save the result to a dataframe named gdp_pivoted."
   ]
  },
  {
   "cell_type": "code",
   "execution_count": 29,
   "id": "110046b1-6e77-47c9-be95-787e3e351386",
   "metadata": {},
   "outputs": [],
   "source": [
    "gdp_df['Year'] = gdp_df['Year'].astype(int)\n",
    "gdp_pivoted = gdp_df[gdp_df['Year'].isin([1990, 2021])]"
   ]
  },
  {
   "cell_type": "code",
   "execution_count": 30,
   "id": "2b2e5a31-1596-4456-a5ac-e84c1906242a",
   "metadata": {},
   "outputs": [],
   "source": [
    "gdp_pivoted = gdp_pivoted.pivot_table(values='GDP_Per_Capita', index= 'Country', columns= 'Year').dropna()"
   ]
  },
  {
   "cell_type": "markdown",
   "id": "4f29ba0d-6733-418a-95ca-7fcf12bf2fb5",
   "metadata": {},
   "source": [
    "**14.** Create a new column in gdp_pivoted named Percent_Change. This column should contain the percent change in GDP_Per_Capita from 1990 to 2021. Hint: Percent change is calculated as 100*(New Value - Old Value) / Old Value."
   ]
  },
  {
   "cell_type": "code",
   "execution_count": 32,
   "id": "7d70f351-63b7-4ee1-b126-7b0790d2545a",
   "metadata": {},
   "outputs": [],
   "source": [
    "gdp_pivoted = gdp_pivoted.assign(Percent_Change=((gdp_pivoted[2021] - gdp_pivoted[1990]) / gdp_pivoted[1990]) * 100)"
   ]
  },
  {
   "cell_type": "markdown",
   "id": "956e9fa3-c894-4ce7-af66-1a49246c402e",
   "metadata": {},
   "source": [
    "**15.** How many countries experienced a negative percent change in GDP per capita from 1990 to 2021?"
   ]
  },
  {
   "cell_type": "code",
   "execution_count": 34,
   "id": "af9cbff4-3b40-4383-9a8f-b43277585e4a",
   "metadata": {},
   "outputs": [
    {
     "data": {
      "text/plain": [
       "Year\n",
       "1990              19\n",
       "2021              19\n",
       "Percent_Change    19\n",
       "dtype: int64"
      ]
     },
     "execution_count": 34,
     "metadata": {},
     "output_type": "execute_result"
    }
   ],
   "source": [
    "gdp_pivoted[gdp_pivoted['Percent_Change'] < 0].sort_values(by='Percent_Change').count()"
   ]
  },
  {
   "cell_type": "markdown",
   "id": "fda10ae6-1394-4c86-9c14-594a38f4483b",
   "metadata": {},
   "source": [
    "**16.** Which country had the highest % change in GDP per capita? Create a line plot showing this country's GDP per capita for all years from 1990 to 2018. Create another showing the country with the second highest % change in GDP. How do the trends in these countries compare?\n",
    "Bonus: Put both line charts on the same plot."
   ]
  },
  {
   "cell_type": "code",
   "execution_count": 36,
   "id": "b20bd152-294f-4e12-b711-be6a7c316876",
   "metadata": {},
   "outputs": [
    {
     "data": {
      "text/plain": [
       "Country\n",
       "Burundi                                         -39.236385\n",
       "Dem. Rep. Congo                                 -38.654906\n",
       "Congo                                           -35.406695\n",
       "United Arab Emirates                            -34.147317\n",
       "Central African Republic                        -30.243599\n",
       "                                                  ...     \n",
       "Myanmar                                         593.351678\n",
       "East Asia & Pacific (IDA & IBRD)                602.726652\n",
       "East Asia & Pacific (excluding high income)     603.268440\n",
       "China                                          1140.082904\n",
       "Equatorial Guinea                              1463.081870\n",
       "Name: Percent_Change, Length: 206, dtype: float64"
      ]
     },
     "execution_count": 36,
     "metadata": {},
     "output_type": "execute_result"
    }
   ],
   "source": [
    "gdp_pivoted['Percent_Change'].sort_values(ascending = True)"
   ]
  },
  {
   "cell_type": "code",
   "execution_count": 37,
   "id": "9a97bfa3-569a-4da3-a692-397ac4ec3439",
   "metadata": {},
   "outputs": [],
   "source": [
    "eg_df = gdp_df[gdp_df['Country'] == 'Equatorial Guinea']\n",
    "eg_df = eg_df[(eg_df['Year'] >= 1990) & (eg_df['Year'] <= 2021)]"
   ]
  },
  {
   "cell_type": "code",
   "execution_count": 38,
   "id": "c695eb10-9698-4102-bfc9-1d61c06dd7ab",
   "metadata": {},
   "outputs": [],
   "source": [
    "china_df = gdp_df[gdp_df['Country'] == 'China']\n",
    "china_df = china_df[(china_df['Year'] >= 1990) & (china_df['Year'] <= 2021)]"
   ]
  },
  {
   "cell_type": "code",
   "execution_count": 39,
   "id": "07c75cf1-3153-4648-8f01-1184ae48920a",
   "metadata": {},
   "outputs": [],
   "source": [
    "eg_df.set_index('Year', inplace=True)\n",
    "china_df.set_index('Year', inplace=True)"
   ]
  },
  {
   "cell_type": "code",
   "execution_count": 40,
   "id": "25983ca9-848d-4340-8c7f-5b9ca882e499",
   "metadata": {},
   "outputs": [
    {
     "data": {
      "image/png": "[encoded data removed]",
      "text/plain": [
       "<Figure size 1000x600 with 1 Axes>"
      ]
     },
     "metadata": {},
     "output_type": "display_data"
    }
   ],
   "source": [
    "plt.figure(figsize=(10, 6))\n",
    "eg_df.plot(kind='line', y='GDP_Per_Capita', ax=plt.gca(), label='Equatorial Guinea', color='blue')\n",
    "china_df.plot(kind='line',y='GDP_Per_Capita', ax=plt.gca(), label='China', color='red')\n",
    "plt.title('GDP of Equatorial Guinea & China from 1990 to 2021')\n",
    "plt.xlabel('Year'), plt.ylabel('GDP per Capita')\n",
    "plt.legend()\n",
    "plt.grid()"
   ]
  },
  {
   "cell_type": "markdown",
   "id": "06f18ea6-fce4-435e-b37b-94217037c664",
   "metadata": {},
   "source": [
    "**17.** Read in continents.csv contained in the data folder into a new dataframe called continents. We will be using this dataframe to add a new column to our dataset."
   ]
  },
  {
   "cell_type": "code",
   "execution_count": 42,
   "id": "6124c93c-8872-4249-9b6e-91613fa84795",
   "metadata": {},
   "outputs": [],
   "source": [
    "continents = pd.read_csv(\"../data/continents.csv\")"
   ]
  },
  {
   "cell_type": "markdown",
   "id": "154977a8-e34b-45f7-a2a7-f7ffcdd624be",
   "metadata": {},
   "source": [
    "**18.** Merge gdp_df and continents. Keep only the countries that appear in both data frames. Save the result back to gdp_df."
   ]
  },
  {
   "cell_type": "code",
   "execution_count": 44,
   "id": "d6cd214e-2807-426a-b9b1-e354f876f1ea",
   "metadata": {},
   "outputs": [],
   "source": [
    "gdp_df = pd.merge(gdp_df, continents, on='Country', how='inner')"
   ]
  },
  {
   "cell_type": "markdown",
   "id": "f5f40a90-1291-4fc5-b7fa-0eaa7cb09a80",
   "metadata": {},
   "source": [
    "**19.** Determine the number of countries per continent. Create a bar chart showing this."
   ]
  },
  {
   "cell_type": "code",
   "execution_count": 46,
   "id": "211ad4da-dfcd-4515-8eae-13e74aac84dc",
   "metadata": {},
   "outputs": [
    {
     "data": {
      "image/png": "[encoded data removed]",
      "text/plain": [
       "<Figure size 640x480 with 1 Axes>"
      ]
     },
     "metadata": {},
     "output_type": "display_data"
    }
   ],
   "source": [
    "continent_country_df = gdp_df.groupby('Continent')['Country'].nunique()\n",
    "\n",
    "continent_country_df.plot(kind='bar', color='blue')\n",
    "plt.xlabel('Continents')\n",
    "plt.ylabel('Number of Countries')\n",
    "plt.title('Number of Countries per Continent')\n",
    "plt.xticks(rotation=45);"
   ]
  },
  {
   "cell_type": "markdown",
   "id": "3254f474-1180-4259-abf5-d2ac8bfff31b",
   "metadata": {},
   "source": [
    "**20.** Create a seaborn boxplot showing GDP per capita in 2021 split out by continent. What do you notice?"
   ]
  },
  {
   "cell_type": "code",
   "execution_count": 48,
   "id": "fda17c8f-45c8-437a-9305-da95b9d23de6",
   "metadata": {},
   "outputs": [
    {
     "data": {
      "image/png": "[encoded data removed]",
      "text/plain": [
       "<Figure size 1000x600 with 1 Axes>"
      ]
     },
     "metadata": {},
     "output_type": "display_data"
    }
   ],
   "source": [
    "boxplot_continent = pd.merge(gdp_2021, continents, on = 'Country', how= 'inner')\n",
    "\n",
    "plt.figure(figsize=(10, 6))\n",
    "sns.boxplot(x='Continent', y='GDP_Per_Capita', width= 0.75,\n",
    "            hue ='Continent', data=boxplot_continent, palette='flare')\n",
    "plt.xlabel('Continents')\n",
    "plt.ylabel('GDP per Capita')\n",
    "plt.title('Distribution of GDP per Capita by Continent in 2021')\n",
    "plt.xticks(rotation=0);"
   ]
  },
  {
   "cell_type": "markdown",
   "id": "426ec75a-a82b-45f7-a64d-9eedd6e63bbd",
   "metadata": {},
   "source": [
    "**Europe and North America have relatively normal distributions, while the rest of the continents are right-skewed.** "
   ]
  },
  {
   "cell_type": "markdown",
   "id": "a8a7a606-789f-4f9b-912f-d929fd38bdce",
   "metadata": {},
   "source": [
    "**21.** Download the full csv containing Life expectancy at birth, total (years) from https://data.worldbank.org/indicator/SP.DYN.LE00.IN?name_desc=false. Read this data into a DataFrame named life_expectancy. Note: When reading this dataset it, you may encounter an error. Modify your read_csv call to correct this without modifying the original csv file."
   ]
  },
  {
   "cell_type": "markdown",
   "id": "c0040e5a-9f22-4965-af22-ff159e0a8bee",
   "metadata": {},
   "source": [
    "**22.** Drop the Country Code, Indicator Name, and Indicator Code columns. Then use .melt() to convert your data from wide to long. That is, instead of having one row per country and multiple colums per year, we want to have multiple rows per country and a single column for year. After melting, rename the columns to Country, Year, and Life_Expectancy."
   ]
  },
  {
   "cell_type": "code",
   "execution_count": 52,
   "id": "647b1ac5-2b32-4a56-826e-6e324e24a97e",
   "metadata": {
    "scrolled": true
   },
   "outputs": [],
   "source": [
    "life_expectancy = pd.read_csv(\"../data/life_expectancy.csv\",skiprows=3)\n",
    "\n",
    "life_expectancy = life_expectancy.drop(['Country Code', 'Indicator Code', 'Indicator Name'],axis=1)"
   ]
  },
  {
   "cell_type": "code",
   "execution_count": 53,
   "id": "728c57cf-f5b7-41ae-8ac8-96799d6e264e",
   "metadata": {
    "scrolled": true
   },
   "outputs": [],
   "source": [
    "life_expectancy = (\n",
    "    life_expectancy\n",
    "    .melt(id_vars='Country Name', var_name='Year', value_name= 'Life Expectancy')\n",
    "    .rename(columns = {'Country Name': 'Country'})\n",
    ")"
   ]
  },
  {
   "cell_type": "markdown",
   "id": "9266a32b-3b14-465f-bca3-410ee5cc344b",
   "metadata": {},
   "source": [
    "**23.** What was the first country with a life expectancy to exceed 80?"
   ]
  },
  {
   "cell_type": "code",
   "execution_count": 55,
   "id": "d2dd3421-7f5d-45ec-9e46-748ef48aa8e3",
   "metadata": {},
   "outputs": [],
   "source": [
    "#Convert column Life Expectancy to int from .melt() since it made the new column an object since it contained NaNs\n",
    "life_expectancy['Life Expectancy'] = pd.to_numeric(life_expectancy['Life Expectancy'], errors='coerce')"
   ]
  },
  {
   "cell_type": "code",
   "execution_count": 56,
   "id": "9e44ab06-d948-4f38-b420-bd1dd82465f5",
   "metadata": {},
   "outputs": [
    {
     "data": {
      "text/html": [
       "<div>\n",
       "<style scoped>\n",
       "    .dataframe tbody tr th:only-of-type {\n",
       "        vertical-align: middle;\n",
       "    }\n",
       "\n",
       "    .dataframe tbody tr th {\n",
       "        vertical-align: top;\n",
       "    }\n",
       "\n",
       "    .dataframe thead th {\n",
       "        text-align: right;\n",
       "    }\n",
       "</style>\n",
       "<table border=\"1\" class=\"dataframe\">\n",
       "  <thead>\n",
       "    <tr style=\"text-align: right;\">\n",
       "      <th></th>\n",
       "      <th>Country</th>\n",
       "      <th>Year</th>\n",
       "      <th>Life Expectancy</th>\n",
       "    </tr>\n",
       "  </thead>\n",
       "  <tbody>\n",
       "    <tr>\n",
       "      <th>9695</th>\n",
       "      <td>Japan</td>\n",
       "      <td>1996</td>\n",
       "      <td>80.219756</td>\n",
       "    </tr>\n",
       "    <tr>\n",
       "      <th>9926</th>\n",
       "      <td>Gibraltar</td>\n",
       "      <td>1997</td>\n",
       "      <td>80.343000</td>\n",
       "    </tr>\n",
       "    <tr>\n",
       "      <th>9938</th>\n",
       "      <td>Hong Kong SAR, China</td>\n",
       "      <td>1997</td>\n",
       "      <td>80.112195</td>\n",
       "    </tr>\n",
       "    <tr>\n",
       "      <th>9961</th>\n",
       "      <td>Japan</td>\n",
       "      <td>1997</td>\n",
       "      <td>80.424146</td>\n",
       "    </tr>\n",
       "    <tr>\n",
       "      <th>9988</th>\n",
       "      <td>Macao SAR, China</td>\n",
       "      <td>1997</td>\n",
       "      <td>80.162000</td>\n",
       "    </tr>\n",
       "    <tr>\n",
       "      <th>...</th>\n",
       "      <td>...</td>\n",
       "      <td>...</td>\n",
       "      <td>...</td>\n",
       "    </tr>\n",
       "    <tr>\n",
       "      <th>16576</th>\n",
       "      <td>Gibraltar</td>\n",
       "      <td>2022</td>\n",
       "      <td>82.830000</td>\n",
       "    </tr>\n",
       "    <tr>\n",
       "      <th>16581</th>\n",
       "      <td>Greece</td>\n",
       "      <td>2022</td>\n",
       "      <td>80.636585</td>\n",
       "    </tr>\n",
       "    <tr>\n",
       "      <th>16588</th>\n",
       "      <td>Hong Kong SAR, China</td>\n",
       "      <td>2022</td>\n",
       "      <td>83.660976</td>\n",
       "    </tr>\n",
       "    <tr>\n",
       "      <th>16550</th>\n",
       "      <td>Denmark</td>\n",
       "      <td>2022</td>\n",
       "      <td>81.304878</td>\n",
       "    </tr>\n",
       "    <tr>\n",
       "      <th>16748</th>\n",
       "      <td>Virgin Islands (U.S.)</td>\n",
       "      <td>2022</td>\n",
       "      <td>80.319512</td>\n",
       "    </tr>\n",
       "  </tbody>\n",
       "</table>\n",
       "<p>690 rows × 3 columns</p>\n",
       "</div>"
      ],
      "text/plain": [
       "                     Country  Year  Life Expectancy\n",
       "9695                   Japan  1996        80.219756\n",
       "9926               Gibraltar  1997        80.343000\n",
       "9938    Hong Kong SAR, China  1997        80.112195\n",
       "9961                   Japan  1997        80.424146\n",
       "9988        Macao SAR, China  1997        80.162000\n",
       "...                      ...   ...              ...\n",
       "16576              Gibraltar  2022        82.830000\n",
       "16581                 Greece  2022        80.636585\n",
       "16588   Hong Kong SAR, China  2022        83.660976\n",
       "16550                Denmark  2022        81.304878\n",
       "16748  Virgin Islands (U.S.)  2022        80.319512\n",
       "\n",
       "[690 rows x 3 columns]"
      ]
     },
     "execution_count": 56,
     "metadata": {},
     "output_type": "execute_result"
    }
   ],
   "source": [
    "life_expectancy[life_expectancy['Life Expectancy'] >80].sort_values('Year')"
   ]
  },
  {
   "cell_type": "markdown",
   "id": "f0d27eb7-6a1e-4339-b87c-b80a1b36cd9f",
   "metadata": {},
   "source": [
    "**24.** Merge gdp_df and life_expectancy, keeping all countries and years that appear in both DataFrames. Save the result to a new DataFrame named gdp_le. If you get any errors in doing this, read them carefully and correct them. Look at the first five rows of your new data frame to confirm it merged correctly. Also, check the last five rows to make sure the data is clean and as expected."
   ]
  },
  {
   "cell_type": "code",
   "execution_count": 58,
   "id": "12ae8345-d7fd-4061-9e0d-9fe5d444b8c1",
   "metadata": {},
   "outputs": [],
   "source": [
    "life_expectancy = life_expectancy[life_expectancy['Year'] != 'Unnamed: 68']"
   ]
  },
  {
   "cell_type": "code",
   "execution_count": 59,
   "id": "43568e7f-163c-41b9-880f-e928db31b312",
   "metadata": {},
   "outputs": [],
   "source": [
    "life_expectancy['Year'] = life_expectancy['Year'].astype(int)"
   ]
  },
  {
   "cell_type": "code",
   "execution_count": 60,
   "id": "985e828b-b51e-402b-bbf8-d5dbf4eeb9f4",
   "metadata": {},
   "outputs": [
    {
     "data": {
      "text/html": [
       "<div>\n",
       "<style scoped>\n",
       "    .dataframe tbody tr th:only-of-type {\n",
       "        vertical-align: middle;\n",
       "    }\n",
       "\n",
       "    .dataframe tbody tr th {\n",
       "        vertical-align: top;\n",
       "    }\n",
       "\n",
       "    .dataframe thead th {\n",
       "        text-align: right;\n",
       "    }\n",
       "</style>\n",
       "<table border=\"1\" class=\"dataframe\">\n",
       "  <thead>\n",
       "    <tr style=\"text-align: right;\">\n",
       "      <th></th>\n",
       "      <th>Country</th>\n",
       "      <th>Year</th>\n",
       "      <th>GDP_Per_Capita</th>\n",
       "      <th>Continent</th>\n",
       "      <th>Life Expectancy</th>\n",
       "    </tr>\n",
       "  </thead>\n",
       "  <tbody>\n",
       "    <tr>\n",
       "      <th>0</th>\n",
       "      <td>Afghanistan</td>\n",
       "      <td>2021</td>\n",
       "      <td>1517.016266</td>\n",
       "      <td>Asia</td>\n",
       "      <td>61.982</td>\n",
       "    </tr>\n",
       "    <tr>\n",
       "      <th>1</th>\n",
       "      <td>Afghanistan</td>\n",
       "      <td>2020</td>\n",
       "      <td>1968.341002</td>\n",
       "      <td>Asia</td>\n",
       "      <td>62.575</td>\n",
       "    </tr>\n",
       "    <tr>\n",
       "      <th>2</th>\n",
       "      <td>Afghanistan</td>\n",
       "      <td>2019</td>\n",
       "      <td>2079.921861</td>\n",
       "      <td>Asia</td>\n",
       "      <td>63.565</td>\n",
       "    </tr>\n",
       "    <tr>\n",
       "      <th>3</th>\n",
       "      <td>Afghanistan</td>\n",
       "      <td>2018</td>\n",
       "      <td>2060.698973</td>\n",
       "      <td>Asia</td>\n",
       "      <td>63.081</td>\n",
       "    </tr>\n",
       "    <tr>\n",
       "      <th>4</th>\n",
       "      <td>Afghanistan</td>\n",
       "      <td>2017</td>\n",
       "      <td>2096.093111</td>\n",
       "      <td>Asia</td>\n",
       "      <td>63.016</td>\n",
       "    </tr>\n",
       "  </tbody>\n",
       "</table>\n",
       "</div>"
      ],
      "text/plain": [
       "       Country  Year  GDP_Per_Capita Continent  Life Expectancy\n",
       "0  Afghanistan  2021     1517.016266      Asia           61.982\n",
       "1  Afghanistan  2020     1968.341002      Asia           62.575\n",
       "2  Afghanistan  2019     2079.921861      Asia           63.565\n",
       "3  Afghanistan  2018     2060.698973      Asia           63.081\n",
       "4  Afghanistan  2017     2096.093111      Asia           63.016"
      ]
     },
     "execution_count": 60,
     "metadata": {},
     "output_type": "execute_result"
    }
   ],
   "source": [
    "gdp_le = pd.merge(\n",
    "    left = gdp_df,\n",
    "    right = life_expectancy)\n",
    "gdp_le.head(5)"
   ]
  },
  {
   "cell_type": "markdown",
   "id": "ded98db5-07a1-473d-956c-2ec587115cc9",
   "metadata": {},
   "source": [
    "**25.** Create a new DataFrame, named gdp_le_2021 by extracting data for the year 2021 from gdp_le. How many countries have a life expectancy of at least 80 in 2021?"
   ]
  },
  {
   "cell_type": "code",
   "execution_count": 62,
   "id": "1423d1d9-8938-4403-99a8-5055890568f4",
   "metadata": {},
   "outputs": [
    {
     "data": {
      "text/plain": [
       "31"
      ]
     },
     "execution_count": 62,
     "metadata": {},
     "output_type": "execute_result"
    }
   ],
   "source": [
    "gdp_le_2021 = gdp_le[gdp_le['Year'] == 2021].copy()\n",
    "(gdp_le_2021['Life Expectancy'] >= 80).sum()"
   ]
  },
  {
   "cell_type": "markdown",
   "id": "e0b3e096-e045-4bd3-acb2-7da88747d2fd",
   "metadata": {},
   "source": [
    "**26.** Find the countries that had the top 3 largest GDP per capita figures for 2021. Create a seaborn FacetGrid showing the change in life expectancy over time for these three countries. Each individual figure in the facet grid will represent a single country."
   ]
  },
  {
   "cell_type": "code",
   "execution_count": 64,
   "id": "0d15651b-7c2b-40f3-a4b4-49bfd88e54d3",
   "metadata": {},
   "outputs": [],
   "source": [
    "top_3_gdp = gdp_le_2021.nlargest(3,'GDP_Per_Capita')['Country']"
   ]
  },
  {
   "cell_type": "code",
   "execution_count": 65,
   "id": "b72c772c-d4b4-4ae9-be56-d36c62bdea85",
   "metadata": {},
   "outputs": [
    {
     "data": {
      "text/html": [
       "<div>\n",
       "<style scoped>\n",
       "    .dataframe tbody tr th:only-of-type {\n",
       "        vertical-align: middle;\n",
       "    }\n",
       "\n",
       "    .dataframe tbody tr th {\n",
       "        vertical-align: top;\n",
       "    }\n",
       "\n",
       "    .dataframe thead th {\n",
       "        text-align: right;\n",
       "    }\n",
       "</style>\n",
       "<table border=\"1\" class=\"dataframe\">\n",
       "  <thead>\n",
       "    <tr style=\"text-align: right;\">\n",
       "      <th></th>\n",
       "      <th>Country</th>\n",
       "      <th>Year</th>\n",
       "      <th>GDP_Per_Capita</th>\n",
       "      <th>Continent</th>\n",
       "      <th>Life Expectancy</th>\n",
       "    </tr>\n",
       "  </thead>\n",
       "  <tbody>\n",
       "    <tr>\n",
       "      <th>2298</th>\n",
       "      <td>Ireland</td>\n",
       "      <td>2022</td>\n",
       "      <td>113870.785550</td>\n",
       "      <td>Europe</td>\n",
       "      <td>83.056098</td>\n",
       "    </tr>\n",
       "    <tr>\n",
       "      <th>2299</th>\n",
       "      <td>Ireland</td>\n",
       "      <td>2021</td>\n",
       "      <td>102785.490239</td>\n",
       "      <td>Europe</td>\n",
       "      <td>82.353659</td>\n",
       "    </tr>\n",
       "    <tr>\n",
       "      <th>2300</th>\n",
       "      <td>Ireland</td>\n",
       "      <td>2020</td>\n",
       "      <td>91356.855054</td>\n",
       "      <td>Europe</td>\n",
       "      <td>82.556098</td>\n",
       "    </tr>\n",
       "    <tr>\n",
       "      <th>2301</th>\n",
       "      <td>Ireland</td>\n",
       "      <td>2019</td>\n",
       "      <td>86925.906582</td>\n",
       "      <td>Europe</td>\n",
       "      <td>82.702439</td>\n",
       "    </tr>\n",
       "    <tr>\n",
       "      <th>2302</th>\n",
       "      <td>Ireland</td>\n",
       "      <td>2018</td>\n",
       "      <td>83575.599241</td>\n",
       "      <td>Europe</td>\n",
       "      <td>82.204878</td>\n",
       "    </tr>\n",
       "    <tr>\n",
       "      <th>...</th>\n",
       "      <td>...</td>\n",
       "      <td>...</td>\n",
       "      <td>...</td>\n",
       "      <td>...</td>\n",
       "      <td>...</td>\n",
       "    </tr>\n",
       "    <tr>\n",
       "      <th>4450</th>\n",
       "      <td>Singapore</td>\n",
       "      <td>1994</td>\n",
       "      <td>46865.416894</td>\n",
       "      <td>Asia</td>\n",
       "      <td>76.197561</td>\n",
       "    </tr>\n",
       "    <tr>\n",
       "      <th>4451</th>\n",
       "      <td>Singapore</td>\n",
       "      <td>1993</td>\n",
       "      <td>43528.860736</td>\n",
       "      <td>Asia</td>\n",
       "      <td>76.046341</td>\n",
       "    </tr>\n",
       "    <tr>\n",
       "      <th>4452</th>\n",
       "      <td>Singapore</td>\n",
       "      <td>1992</td>\n",
       "      <td>40054.049796</td>\n",
       "      <td>Asia</td>\n",
       "      <td>75.946341</td>\n",
       "    </tr>\n",
       "    <tr>\n",
       "      <th>4453</th>\n",
       "      <td>Singapore</td>\n",
       "      <td>1991</td>\n",
       "      <td>38705.653871</td>\n",
       "      <td>Asia</td>\n",
       "      <td>75.646341</td>\n",
       "    </tr>\n",
       "    <tr>\n",
       "      <th>4454</th>\n",
       "      <td>Singapore</td>\n",
       "      <td>1990</td>\n",
       "      <td>37326.304238</td>\n",
       "      <td>Asia</td>\n",
       "      <td>75.295122</td>\n",
       "    </tr>\n",
       "  </tbody>\n",
       "</table>\n",
       "<p>99 rows × 5 columns</p>\n",
       "</div>"
      ],
      "text/plain": [
       "        Country  Year  GDP_Per_Capita Continent  Life Expectancy\n",
       "2298    Ireland  2022   113870.785550    Europe        83.056098\n",
       "2299    Ireland  2021   102785.490239    Europe        82.353659\n",
       "2300    Ireland  2020    91356.855054    Europe        82.556098\n",
       "2301    Ireland  2019    86925.906582    Europe        82.702439\n",
       "2302    Ireland  2018    83575.599241    Europe        82.204878\n",
       "...         ...   ...             ...       ...              ...\n",
       "4450  Singapore  1994    46865.416894      Asia        76.197561\n",
       "4451  Singapore  1993    43528.860736      Asia        76.046341\n",
       "4452  Singapore  1992    40054.049796      Asia        75.946341\n",
       "4453  Singapore  1991    38705.653871      Asia        75.646341\n",
       "4454  Singapore  1990    37326.304238      Asia        75.295122\n",
       "\n",
       "[99 rows x 5 columns]"
      ]
     },
     "execution_count": 65,
     "metadata": {},
     "output_type": "execute_result"
    }
   ],
   "source": [
    "gdp_le[gdp_le['Country'].isin(top_3_gdp)]"
   ]
  },
  {
   "cell_type": "code",
   "execution_count": 66,
   "id": "3207f16f-d8ba-4897-a2f5-b72fef6c01b0",
   "metadata": {},
   "outputs": [
    {
     "data": {
      "image/png": "[encoded data removed]",
      "text/plain": [
       "<Figure size 900x300 with 3 Axes>"
      ]
     },
     "metadata": {},
     "output_type": "display_data"
    }
   ],
   "source": [
    "top_3_lineplot = sns.FacetGrid(gdp_le[gdp_le['Country'].isin(top_3_gdp)], col=\"Country\")\n",
    "top_3_lineplot.map(sns.lineplot, \"Year\", \"Life Expectancy\");"
   ]
  },
  {
   "cell_type": "markdown",
   "id": "7c68a9f0-aac2-435e-b7f8-2789814b3578",
   "metadata": {},
   "source": [
    "**27.** Create a scatter plot of Life Expectancy vs GDP per Capita for the year 2021. What do you notice?"
   ]
  },
  {
   "cell_type": "code",
   "execution_count": 68,
   "id": "f5408ad0-e2bc-40b2-8827-10cf11492315",
   "metadata": {},
   "outputs": [
    {
     "data": {
      "image/png": "[encoded data removed]",
      "text/plain": [
       "<Figure size 640x480 with 1 Axes>"
      ]
     },
     "metadata": {},
     "output_type": "display_data"
    }
   ],
   "source": [
    "gdp_le_2021.plot(kind='scatter', x='GDP_Per_Capita', y='Life Expectancy');"
   ]
  },
  {
   "cell_type": "markdown",
   "id": "1f85c2cb-e7f7-4850-9ec5-0ec3ca9beaf4",
   "metadata": {},
   "source": [
    "**28.** Find the correlation between Life Expectancy and GDP per Capita for the year 2021. What is the meaning of this number?"
   ]
  },
  {
   "cell_type": "code",
   "execution_count": 70,
   "id": "55c5652e-cdd6-48d6-bedd-8fe3d3d0d55a",
   "metadata": {},
   "outputs": [
    {
     "data": {
      "text/html": [
       "<div>\n",
       "<style scoped>\n",
       "    .dataframe tbody tr th:only-of-type {\n",
       "        vertical-align: middle;\n",
       "    }\n",
       "\n",
       "    .dataframe tbody tr th {\n",
       "        vertical-align: top;\n",
       "    }\n",
       "\n",
       "    .dataframe thead th {\n",
       "        text-align: right;\n",
       "    }\n",
       "</style>\n",
       "<table border=\"1\" class=\"dataframe\">\n",
       "  <thead>\n",
       "    <tr style=\"text-align: right;\">\n",
       "      <th></th>\n",
       "      <th>Year</th>\n",
       "      <th>GDP_Per_Capita</th>\n",
       "      <th>Life Expectancy</th>\n",
       "    </tr>\n",
       "  </thead>\n",
       "  <tbody>\n",
       "    <tr>\n",
       "      <th>Year</th>\n",
       "      <td>NaN</td>\n",
       "      <td>NaN</td>\n",
       "      <td>NaN</td>\n",
       "    </tr>\n",
       "    <tr>\n",
       "      <th>GDP_Per_Capita</th>\n",
       "      <td>NaN</td>\n",
       "      <td>1.000000</td>\n",
       "      <td>0.745081</td>\n",
       "    </tr>\n",
       "    <tr>\n",
       "      <th>Life Expectancy</th>\n",
       "      <td>NaN</td>\n",
       "      <td>0.745081</td>\n",
       "      <td>1.000000</td>\n",
       "    </tr>\n",
       "  </tbody>\n",
       "</table>\n",
       "</div>"
      ],
      "text/plain": [
       "                 Year  GDP_Per_Capita  Life Expectancy\n",
       "Year              NaN             NaN              NaN\n",
       "GDP_Per_Capita    NaN        1.000000         0.745081\n",
       "Life Expectancy   NaN        0.745081         1.000000"
      ]
     },
     "execution_count": 70,
     "metadata": {},
     "output_type": "execute_result"
    }
   ],
   "source": [
    "gdp_le_2021.corr(numeric_only=True)"
   ]
  },
  {
   "cell_type": "markdown",
   "id": "3b953ea0-3700-4be3-b5a2-fc19d9c51c78",
   "metadata": {},
   "source": [
    "**The correlation coefficient (r) describes the strength of the relationship between life expectancy and GDP per capita. It is closer to 1 so it demonstrates a stronger positive relationship.**"
   ]
  },
  {
   "cell_type": "markdown",
   "id": "2f6fa228-2700-4fd9-8370-f0b3372a20c4",
   "metadata": {},
   "source": [
    "**29.** Add a column to gdp_le_2021 and calculate the logarithm of GDP per capita. Find the correlation between the log of GDP per capita and life expectancy. How does this compare to the calculation in the previous part? Look at a scatter plot to see if the result of this calculation makes sense."
   ]
  },
  {
   "cell_type": "code",
   "execution_count": 73,
   "id": "2e8ae392-6281-4594-a24d-82ba75705c39",
   "metadata": {},
   "outputs": [],
   "source": [
    "gdp_le_2021['Log_GDP_Per_Capita'] = np.log(gdp_le_2021['GDP_Per_Capita'])"
   ]
  },
  {
   "cell_type": "code",
   "execution_count": 74,
   "id": "bc1e4c20-ede3-4f39-96ba-fd07bf7a66cd",
   "metadata": {},
   "outputs": [
    {
     "data": {
      "image/png": "[encoded data removed]",
      "text/plain": [
       "<Figure size 640x480 with 1 Axes>"
      ]
     },
     "metadata": {},
     "output_type": "display_data"
    }
   ],
   "source": [
    "gdp_le_2021.plot(kind='scatter', x='Log_GDP_Per_Capita', y='Life Expectancy');"
   ]
  },
  {
   "cell_type": "markdown",
   "id": "985b2d74-02d3-4fa9-a484-a4bbe70b5802",
   "metadata": {},
   "source": [
    "**The log of GDP per capita helps to visualize this relationship more accurrately since it compresses the scale compared to using actual values.**"
   ]
  }
 ],
 "metadata": {
  "kernelspec": {
   "display_name": "Python 3 (ipykernel)",
   "language": "python",
   "name": "python3"
  },
  "language_info": {
   "codemirror_mode": {
    "name": "ipython",
    "version": 3
   },
   "file_extension": ".py",
   "mimetype": "text/x-python",
   "name": "python",
   "nbconvert_exporter": "python",
   "pygments_lexer": "ipython3",
   "version": "3.12.4"
  }
 },
 "nbformat": 4,
 "nbformat_minor": 5
}
