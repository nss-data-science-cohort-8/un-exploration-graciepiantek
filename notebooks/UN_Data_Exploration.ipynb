{
 "cells": [
  {
   "cell_type": "code",
   "execution_count": 1,
   "id": "1bd49144-f2dd-4492-9661-96315506ea1c",
   "metadata": {},
   "outputs": [],
   "source": [
    "import pandas as pd\n",
    "import numpy as np\n",
    "import matplotlib.pyplot as plt\n",
    "import seaborn as sns"
   ]
  },
  {
   "cell_type": "code",
   "execution_count": 2,
   "id": "f2da0568-0ee1-4441-9cb0-c8cc9e04ed8b",
   "metadata": {},
   "outputs": [],
   "source": [
    "gdp_df = pd.read_csv(\"../data/gdp_per_capita.csv\")"
   ]
  },
  {
   "cell_type": "code",
   "execution_count": 3,
   "id": "d2a5c25a-0855-412c-8196-7bdf02e582ca",
   "metadata": {},
   "outputs": [
    {
     "data": {
      "text/html": [
       "<div>\n",
       "<style scoped>\n",
       "    .dataframe tbody tr th:only-of-type {\n",
       "        vertical-align: middle;\n",
       "    }\n",
       "\n",
       "    .dataframe tbody tr th {\n",
       "        vertical-align: top;\n",
       "    }\n",
       "\n",
       "    .dataframe thead th {\n",
       "        text-align: right;\n",
       "    }\n",
       "</style>\n",
       "<table border=\"1\" class=\"dataframe\">\n",
       "  <thead>\n",
       "    <tr style=\"text-align: right;\">\n",
       "      <th></th>\n",
       "      <th>Country or Area</th>\n",
       "      <th>Year</th>\n",
       "      <th>Value</th>\n",
       "      <th>Value Footnotes</th>\n",
       "    </tr>\n",
       "  </thead>\n",
       "  <tbody>\n",
       "    <tr>\n",
       "      <th>0</th>\n",
       "      <td>Afghanistan</td>\n",
       "      <td>2021</td>\n",
       "      <td>1517.016266</td>\n",
       "      <td>NaN</td>\n",
       "    </tr>\n",
       "    <tr>\n",
       "      <th>1</th>\n",
       "      <td>Afghanistan</td>\n",
       "      <td>2020</td>\n",
       "      <td>1968.341002</td>\n",
       "      <td>NaN</td>\n",
       "    </tr>\n",
       "    <tr>\n",
       "      <th>2</th>\n",
       "      <td>Afghanistan</td>\n",
       "      <td>2019</td>\n",
       "      <td>2079.921861</td>\n",
       "      <td>NaN</td>\n",
       "    </tr>\n",
       "    <tr>\n",
       "      <th>3</th>\n",
       "      <td>Afghanistan</td>\n",
       "      <td>2018</td>\n",
       "      <td>2060.698973</td>\n",
       "      <td>NaN</td>\n",
       "    </tr>\n",
       "    <tr>\n",
       "      <th>4</th>\n",
       "      <td>Afghanistan</td>\n",
       "      <td>2017</td>\n",
       "      <td>2096.093111</td>\n",
       "      <td>NaN</td>\n",
       "    </tr>\n",
       "    <tr>\n",
       "      <th>5</th>\n",
       "      <td>Afghanistan</td>\n",
       "      <td>2016</td>\n",
       "      <td>2101.422187</td>\n",
       "      <td>NaN</td>\n",
       "    </tr>\n",
       "    <tr>\n",
       "      <th>6</th>\n",
       "      <td>Afghanistan</td>\n",
       "      <td>2015</td>\n",
       "      <td>2108.714173</td>\n",
       "      <td>NaN</td>\n",
       "    </tr>\n",
       "    <tr>\n",
       "      <th>7</th>\n",
       "      <td>Afghanistan</td>\n",
       "      <td>2014</td>\n",
       "      <td>2144.449634</td>\n",
       "      <td>NaN</td>\n",
       "    </tr>\n",
       "    <tr>\n",
       "      <th>8</th>\n",
       "      <td>Afghanistan</td>\n",
       "      <td>2013</td>\n",
       "      <td>2165.340915</td>\n",
       "      <td>NaN</td>\n",
       "    </tr>\n",
       "    <tr>\n",
       "      <th>9</th>\n",
       "      <td>Afghanistan</td>\n",
       "      <td>2012</td>\n",
       "      <td>2122.830759</td>\n",
       "      <td>NaN</td>\n",
       "    </tr>\n",
       "  </tbody>\n",
       "</table>\n",
       "</div>"
      ],
      "text/plain": [
       "  Country or Area  Year        Value  Value Footnotes\n",
       "0     Afghanistan  2021  1517.016266              NaN\n",
       "1     Afghanistan  2020  1968.341002              NaN\n",
       "2     Afghanistan  2019  2079.921861              NaN\n",
       "3     Afghanistan  2018  2060.698973              NaN\n",
       "4     Afghanistan  2017  2096.093111              NaN\n",
       "5     Afghanistan  2016  2101.422187              NaN\n",
       "6     Afghanistan  2015  2108.714173              NaN\n",
       "7     Afghanistan  2014  2144.449634              NaN\n",
       "8     Afghanistan  2013  2165.340915              NaN\n",
       "9     Afghanistan  2012  2122.830759              NaN"
      ]
     },
     "execution_count": 3,
     "metadata": {},
     "output_type": "execute_result"
    }
   ],
   "source": [
    "gdp_df.head(10)"
   ]
  },
  {
   "cell_type": "code",
   "execution_count": 4,
   "id": "a334e0c5-e5e6-40af-b3ee-412637521810",
   "metadata": {},
   "outputs": [
    {
     "data": {
      "text/html": [
       "<div>\n",
       "<style scoped>\n",
       "    .dataframe tbody tr th:only-of-type {\n",
       "        vertical-align: middle;\n",
       "    }\n",
       "\n",
       "    .dataframe tbody tr th {\n",
       "        vertical-align: top;\n",
       "    }\n",
       "\n",
       "    .dataframe thead th {\n",
       "        text-align: right;\n",
       "    }\n",
       "</style>\n",
       "<table border=\"1\" class=\"dataframe\">\n",
       "  <thead>\n",
       "    <tr style=\"text-align: right;\">\n",
       "      <th></th>\n",
       "      <th>Country or Area</th>\n",
       "      <th>Year</th>\n",
       "      <th>Value</th>\n",
       "      <th>Value Footnotes</th>\n",
       "    </tr>\n",
       "  </thead>\n",
       "  <tbody>\n",
       "    <tr>\n",
       "      <th>7652</th>\n",
       "      <td>Zimbabwe</td>\n",
       "      <td>1999</td>\n",
       "      <td>2866.032886</td>\n",
       "      <td>NaN</td>\n",
       "    </tr>\n",
       "    <tr>\n",
       "      <th>7653</th>\n",
       "      <td>Zimbabwe</td>\n",
       "      <td>1998</td>\n",
       "      <td>2931.725144</td>\n",
       "      <td>NaN</td>\n",
       "    </tr>\n",
       "    <tr>\n",
       "      <th>7654</th>\n",
       "      <td>Zimbabwe</td>\n",
       "      <td>1997</td>\n",
       "      <td>2896.147308</td>\n",
       "      <td>NaN</td>\n",
       "    </tr>\n",
       "    <tr>\n",
       "      <th>7655</th>\n",
       "      <td>Zimbabwe</td>\n",
       "      <td>1996</td>\n",
       "      <td>2867.026043</td>\n",
       "      <td>NaN</td>\n",
       "    </tr>\n",
       "    <tr>\n",
       "      <th>7656</th>\n",
       "      <td>Zimbabwe</td>\n",
       "      <td>1995</td>\n",
       "      <td>2641.378271</td>\n",
       "      <td>NaN</td>\n",
       "    </tr>\n",
       "    <tr>\n",
       "      <th>7657</th>\n",
       "      <td>Zimbabwe</td>\n",
       "      <td>1994</td>\n",
       "      <td>2670.106615</td>\n",
       "      <td>NaN</td>\n",
       "    </tr>\n",
       "    <tr>\n",
       "      <th>7658</th>\n",
       "      <td>Zimbabwe</td>\n",
       "      <td>1993</td>\n",
       "      <td>2458.783255</td>\n",
       "      <td>NaN</td>\n",
       "    </tr>\n",
       "    <tr>\n",
       "      <th>7659</th>\n",
       "      <td>Zimbabwe</td>\n",
       "      <td>1992</td>\n",
       "      <td>2468.278257</td>\n",
       "      <td>NaN</td>\n",
       "    </tr>\n",
       "    <tr>\n",
       "      <th>7660</th>\n",
       "      <td>Zimbabwe</td>\n",
       "      <td>1991</td>\n",
       "      <td>2781.787843</td>\n",
       "      <td>NaN</td>\n",
       "    </tr>\n",
       "    <tr>\n",
       "      <th>7661</th>\n",
       "      <td>Zimbabwe</td>\n",
       "      <td>1990</td>\n",
       "      <td>2704.757299</td>\n",
       "      <td>NaN</td>\n",
       "    </tr>\n",
       "  </tbody>\n",
       "</table>\n",
       "</div>"
      ],
      "text/plain": [
       "     Country or Area  Year        Value  Value Footnotes\n",
       "7652        Zimbabwe  1999  2866.032886              NaN\n",
       "7653        Zimbabwe  1998  2931.725144              NaN\n",
       "7654        Zimbabwe  1997  2896.147308              NaN\n",
       "7655        Zimbabwe  1996  2867.026043              NaN\n",
       "7656        Zimbabwe  1995  2641.378271              NaN\n",
       "7657        Zimbabwe  1994  2670.106615              NaN\n",
       "7658        Zimbabwe  1993  2458.783255              NaN\n",
       "7659        Zimbabwe  1992  2468.278257              NaN\n",
       "7660        Zimbabwe  1991  2781.787843              NaN\n",
       "7661        Zimbabwe  1990  2704.757299              NaN"
      ]
     },
     "execution_count": 4,
     "metadata": {},
     "output_type": "execute_result"
    }
   ],
   "source": [
    "gdp_df.tail(10)"
   ]
  },
  {
   "cell_type": "code",
   "execution_count": 5,
   "id": "652948ec-b845-4e98-9873-ba113b179dcd",
   "metadata": {},
   "outputs": [
    {
     "data": {
      "text/plain": [
       "(7662, 4)"
      ]
     },
     "execution_count": 5,
     "metadata": {},
     "output_type": "execute_result"
    }
   ],
   "source": [
    "gdp_df.shape"
   ]
  },
  {
   "cell_type": "code",
   "execution_count": 6,
   "id": "0bb09071-83aa-4332-9c42-0294db5d1b7d",
   "metadata": {},
   "outputs": [],
   "source": [
    "gdp_df = ( \n",
    "    gdp_df\n",
    "    .drop(columns=['Value Footnotes'])\n",
    "    .rename(columns={'Country or Area': 'Country', 'Value': 'GDP_Per_Capita'})\n",
    ")"
   ]
  },
  {
   "cell_type": "code",
   "execution_count": 7,
   "id": "cf95d8cb-1f1d-4b2e-a36f-d2000706ac83",
   "metadata": {},
   "outputs": [
    {
     "data": {
      "text/plain": [
       "Country            object\n",
       "Year                int64\n",
       "GDP_Per_Capita    float64\n",
       "dtype: object"
      ]
     },
     "execution_count": 7,
     "metadata": {},
     "output_type": "execute_result"
    }
   ],
   "source": [
    "gdp_df.dtypes"
   ]
  },
  {
   "cell_type": "code",
   "execution_count": 8,
   "id": "92fbe857-dc8e-479a-a577-d22cddb7dd57",
   "metadata": {},
   "outputs": [],
   "source": [
    "gdp_df['Year'] = gdp_df['Year'].astype(str)"
   ]
  },
  {
   "cell_type": "code",
   "execution_count": 9,
   "id": "42b3fe8f-d2df-4ea1-b88a-1ad4d099fdf8",
   "metadata": {},
   "outputs": [
    {
     "data": {
      "text/plain": [
       "Year\n",
       "1990    207\n",
       "1991    208\n",
       "1992    210\n",
       "1993    211\n",
       "1994    213\n",
       "1995    223\n",
       "1996    223\n",
       "1997    226\n",
       "1998    226\n",
       "1999    227\n",
       "2022    232\n",
       "2000    233\n",
       "2001    234\n",
       "2002    235\n",
       "2003    235\n",
       "2005    236\n",
       "2004    236\n",
       "2007    237\n",
       "2006    237\n",
       "2008    238\n",
       "2009    239\n",
       "2010    239\n",
       "2011    240\n",
       "2012    240\n",
       "2021    241\n",
       "2019    242\n",
       "2018    242\n",
       "2017    242\n",
       "2020    242\n",
       "2015    242\n",
       "2014    242\n",
       "2016    242\n",
       "2013    242\n",
       "Name: count, dtype: int64"
      ]
     },
     "execution_count": 9,
     "metadata": {},
     "output_type": "execute_result"
    }
   ],
   "source": [
    "gdp_df['Year'].value_counts().sort_values()"
   ]
  },
  {
   "cell_type": "markdown",
   "id": "c04043cf-7539-4bf9-8173-c246827ab0cc",
   "metadata": {},
   "source": [
    "#7\n",
    "232 obs for 2022"
   ]
  },
  {
   "cell_type": "code",
   "execution_count": 11,
   "id": "22da5d25-0a15-4f07-b4cb-1b4746b442e7",
   "metadata": {},
   "outputs": [
    {
     "data": {
      "text/plain": [
       "Country\n",
       "Djibouti                     10\n",
       "Somalia                      10\n",
       "Turks and Caicos Islands     12\n",
       "Sint Maarten (Dutch part)    14\n",
       "Kosovo                       15\n",
       "                             ..\n",
       "Jamaica                      33\n",
       "Japan                        33\n",
       "Jordan                       33\n",
       "IDA total                    33\n",
       "Zimbabwe                     33\n",
       "Name: count, Length: 242, dtype: int64"
      ]
     },
     "execution_count": 11,
     "metadata": {},
     "output_type": "execute_result"
    }
   ],
   "source": [
    "gdp_df['Country'].value_counts(ascending = True)"
   ]
  },
  {
   "cell_type": "code",
   "execution_count": 12,
   "id": "b8d1cd94-b746-433b-891a-cdf1acf66ded",
   "metadata": {},
   "outputs": [
    {
     "data": {
      "text/plain": [
       "<bound method Series.min of 0       Afghanistan\n",
       "1       Afghanistan\n",
       "2       Afghanistan\n",
       "3       Afghanistan\n",
       "4       Afghanistan\n",
       "           ...     \n",
       "7657       Zimbabwe\n",
       "7658       Zimbabwe\n",
       "7659       Zimbabwe\n",
       "7660       Zimbabwe\n",
       "7661       Zimbabwe\n",
       "Name: Country, Length: 7662, dtype: object>"
      ]
     },
     "execution_count": 12,
     "metadata": {},
     "output_type": "execute_result"
    }
   ],
   "source": [
    "gdp_df['Country'].min"
   ]
  },
  {
   "cell_type": "code",
   "execution_count": 13,
   "id": "5f123856-73bd-4770-9226-4f69883fb819",
   "metadata": {},
   "outputs": [
    {
     "data": {
      "text/plain": [
       "<bound method Series.max of 0       Afghanistan\n",
       "1       Afghanistan\n",
       "2       Afghanistan\n",
       "3       Afghanistan\n",
       "4       Afghanistan\n",
       "           ...     \n",
       "7657       Zimbabwe\n",
       "7658       Zimbabwe\n",
       "7659       Zimbabwe\n",
       "7660       Zimbabwe\n",
       "7661       Zimbabwe\n",
       "Name: Country, Length: 7662, dtype: object>"
      ]
     },
     "execution_count": 13,
     "metadata": {},
     "output_type": "execute_result"
    }
   ],
   "source": [
    "gdp_df['Country'].max"
   ]
  },
  {
   "cell_type": "code",
   "execution_count": 14,
   "id": "4a919c92-f1f8-45f1-bcef-65b751228bb1",
   "metadata": {},
   "outputs": [],
   "source": [
    "gdp_2021 = gdp_df[gdp_df['Year'] == '2021'].reset_index(drop=True)"
   ]
  },
  {
   "cell_type": "code",
   "execution_count": 15,
   "id": "fa4d03e8-cd85-4a96-98be-374118efe9cc",
   "metadata": {},
   "outputs": [
    {
     "data": {
      "text/html": [
       "<div>\n",
       "<style scoped>\n",
       "    .dataframe tbody tr th:only-of-type {\n",
       "        vertical-align: middle;\n",
       "    }\n",
       "\n",
       "    .dataframe tbody tr th {\n",
       "        vertical-align: top;\n",
       "    }\n",
       "\n",
       "    .dataframe thead th {\n",
       "        text-align: right;\n",
       "    }\n",
       "</style>\n",
       "<table border=\"1\" class=\"dataframe\">\n",
       "  <thead>\n",
       "    <tr style=\"text-align: right;\">\n",
       "      <th></th>\n",
       "      <th>GDP_Per_Capita</th>\n",
       "    </tr>\n",
       "  </thead>\n",
       "  <tbody>\n",
       "    <tr>\n",
       "      <th>count</th>\n",
       "      <td>241.000000</td>\n",
       "    </tr>\n",
       "    <tr>\n",
       "      <th>mean</th>\n",
       "      <td>20711.570080</td>\n",
       "    </tr>\n",
       "    <tr>\n",
       "      <th>std</th>\n",
       "      <td>20916.978968</td>\n",
       "    </tr>\n",
       "    <tr>\n",
       "      <th>min</th>\n",
       "      <td>714.066712</td>\n",
       "    </tr>\n",
       "    <tr>\n",
       "      <th>25%</th>\n",
       "      <td>5044.196028</td>\n",
       "    </tr>\n",
       "    <tr>\n",
       "      <th>50%</th>\n",
       "      <td>13754.802423</td>\n",
       "    </tr>\n",
       "    <tr>\n",
       "      <th>75%</th>\n",
       "      <td>30974.370692</td>\n",
       "    </tr>\n",
       "    <tr>\n",
       "      <th>max</th>\n",
       "      <td>115683.493708</td>\n",
       "    </tr>\n",
       "  </tbody>\n",
       "</table>\n",
       "</div>"
      ],
      "text/plain": [
       "       GDP_Per_Capita\n",
       "count      241.000000\n",
       "mean     20711.570080\n",
       "std      20916.978968\n",
       "min        714.066712\n",
       "25%       5044.196028\n",
       "50%      13754.802423\n",
       "75%      30974.370692\n",
       "max     115683.493708"
      ]
     },
     "execution_count": 15,
     "metadata": {},
     "output_type": "execute_result"
    }
   ],
   "source": [
    "gdp_2021.describe()"
   ]
  },
  {
   "cell_type": "markdown",
   "id": "bf7d2cde-aca8-42d9-ac81-71a574ead169",
   "metadata": {},
   "source": [
    "Question 11: Create a histogram of GDP Per Capita numbers for 2021 (you may wish to adjust the number of bins for your histogram). How would you describe the shape of the distribution?"
   ]
  },
  {
   "cell_type": "code",
   "execution_count": 17,
   "id": "4305035e-1109-41b4-ad12-95eeae65371b",
   "metadata": {},
   "outputs": [
    {
     "data": {
      "image/png": "[encoded data removed]",
      "text/plain": [
       "<Figure size 640x480 with 1 Axes>"
      ]
     },
     "metadata": {},
     "output_type": "display_data"
    }
   ],
   "source": [
    "plt.hist(\n",
    "    data=gdp_2021,\n",
    "    x='GDP_Per_Capita',\n",
    "        edgecolor='black',\n",
    "    linewidth=1,\n",
    "    bins=\"auto\"\n",
    ")\n",
    "plt.xlabel('Frequency of GDP')                            \n",
    "plt.ylabel('GDP Per Capita')\n",
    "plt.title('GDP Per Capita numbers for 2021');"
   ]
  },
  {
   "cell_type": "markdown",
   "id": "d60765a4-abc7-444f-89c2-c0f2436e1129",
   "metadata": {},
   "source": [
    "Find the top 5 countries and bottom 5 countries by GDP per capita in 2021."
   ]
  },
  {
   "cell_type": "code",
   "execution_count": 19,
   "id": "4c570263-ebdb-46e5-af6b-e4bd09054b43",
   "metadata": {},
   "outputs": [
    {
     "data": {
      "text/html": [
       "<div>\n",
       "<style scoped>\n",
       "    .dataframe tbody tr th:only-of-type {\n",
       "        vertical-align: middle;\n",
       "    }\n",
       "\n",
       "    .dataframe tbody tr th {\n",
       "        vertical-align: top;\n",
       "    }\n",
       "\n",
       "    .dataframe thead th {\n",
       "        text-align: right;\n",
       "    }\n",
       "</style>\n",
       "<table border=\"1\" class=\"dataframe\">\n",
       "  <thead>\n",
       "    <tr style=\"text-align: right;\">\n",
       "      <th></th>\n",
       "      <th>Country</th>\n",
       "      <th>Year</th>\n",
       "      <th>GDP_Per_Capita</th>\n",
       "    </tr>\n",
       "  </thead>\n",
       "  <tbody>\n",
       "    <tr>\n",
       "      <th>130</th>\n",
       "      <td>Luxembourg</td>\n",
       "      <td>2021</td>\n",
       "      <td>115683.493708</td>\n",
       "    </tr>\n",
       "    <tr>\n",
       "      <th>192</th>\n",
       "      <td>Singapore</td>\n",
       "      <td>2021</td>\n",
       "      <td>107741.118436</td>\n",
       "    </tr>\n",
       "    <tr>\n",
       "      <th>102</th>\n",
       "      <td>Ireland</td>\n",
       "      <td>2021</td>\n",
       "      <td>102785.490239</td>\n",
       "    </tr>\n",
       "    <tr>\n",
       "      <th>180</th>\n",
       "      <td>Qatar</td>\n",
       "      <td>2021</td>\n",
       "      <td>92862.571798</td>\n",
       "    </tr>\n",
       "    <tr>\n",
       "      <th>21</th>\n",
       "      <td>Bermuda</td>\n",
       "      <td>2021</td>\n",
       "      <td>78570.489515</td>\n",
       "    </tr>\n",
       "  </tbody>\n",
       "</table>\n",
       "</div>"
      ],
      "text/plain": [
       "        Country  Year  GDP_Per_Capita\n",
       "130  Luxembourg  2021   115683.493708\n",
       "192   Singapore  2021   107741.118436\n",
       "102     Ireland  2021   102785.490239\n",
       "180       Qatar  2021    92862.571798\n",
       "21      Bermuda  2021    78570.489515"
      ]
     },
     "execution_count": 19,
     "metadata": {},
     "output_type": "execute_result"
    }
   ],
   "source": [
    "gdp_2021.nlargest(5, 'GDP_Per_Capita')"
   ]
  },
  {
   "cell_type": "code",
   "execution_count": 20,
   "id": "105a6399-463e-4982-a7b8-54fc1ca6daff",
   "metadata": {},
   "outputs": [
    {
     "data": {
      "text/html": [
       "<div>\n",
       "<style scoped>\n",
       "    .dataframe tbody tr th:only-of-type {\n",
       "        vertical-align: middle;\n",
       "    }\n",
       "\n",
       "    .dataframe tbody tr th {\n",
       "        vertical-align: top;\n",
       "    }\n",
       "\n",
       "    .dataframe thead th {\n",
       "        text-align: right;\n",
       "    }\n",
       "</style>\n",
       "<table border=\"1\" class=\"dataframe\">\n",
       "  <thead>\n",
       "    <tr style=\"text-align: right;\">\n",
       "      <th></th>\n",
       "      <th>Country</th>\n",
       "      <th>Year</th>\n",
       "      <th>GDP_Per_Capita</th>\n",
       "    </tr>\n",
       "  </thead>\n",
       "  <tbody>\n",
       "    <tr>\n",
       "      <th>30</th>\n",
       "      <td>Burundi</td>\n",
       "      <td>2021</td>\n",
       "      <td>714.066712</td>\n",
       "    </tr>\n",
       "    <tr>\n",
       "      <th>38</th>\n",
       "      <td>Central African Republic</td>\n",
       "      <td>2021</td>\n",
       "      <td>837.504686</td>\n",
       "    </tr>\n",
       "    <tr>\n",
       "      <th>51</th>\n",
       "      <td>Dem. Rep. Congo</td>\n",
       "      <td>2021</td>\n",
       "      <td>1073.643271</td>\n",
       "    </tr>\n",
       "    <tr>\n",
       "      <th>198</th>\n",
       "      <td>Somalia</td>\n",
       "      <td>2021</td>\n",
       "      <td>1136.735989</td>\n",
       "    </tr>\n",
       "    <tr>\n",
       "      <th>159</th>\n",
       "      <td>Niger</td>\n",
       "      <td>2021</td>\n",
       "      <td>1186.576809</td>\n",
       "    </tr>\n",
       "  </tbody>\n",
       "</table>\n",
       "</div>"
      ],
      "text/plain": [
       "                      Country  Year  GDP_Per_Capita\n",
       "30                    Burundi  2021      714.066712\n",
       "38   Central African Republic  2021      837.504686\n",
       "51            Dem. Rep. Congo  2021     1073.643271\n",
       "198                   Somalia  2021     1136.735989\n",
       "159                     Niger  2021     1186.576809"
      ]
     },
     "execution_count": 20,
     "metadata": {},
     "output_type": "execute_result"
    }
   ],
   "source": [
    "gdp_2021.nsmallest(5, 'GDP_Per_Capita')"
   ]
  },
  {
   "cell_type": "markdown",
   "id": "71ab2fc1-47ba-4859-bf4d-699016f1fbc9",
   "metadata": {},
   "source": [
    "13. Now, return to the full dataset, gdp_df. Pivot the data for 1990 and 2021 (using the pandas .pivot_table() method or another method) so that each row corresponds to a country, each column corresponds to a year, and the values in the table give the GDP_Per_Capita amount. Drop any rows that are missing values for either 1990 or 2021. Save the result to a dataframe named gdp_pivoted."
   ]
  },
  {
   "cell_type": "code",
   "execution_count": 22,
   "id": "110046b1-6e77-47c9-be95-787e3e351386",
   "metadata": {},
   "outputs": [],
   "source": [
    "gdp_df['Year'] = gdp_df['Year'].astype(int)\n",
    "gdp_pivoted = gdp_df[gdp_df['Year'].isin([1990, 2021])]"
   ]
  },
  {
   "cell_type": "code",
   "execution_count": 23,
   "id": "2b2e5a31-1596-4456-a5ac-e84c1906242a",
   "metadata": {},
   "outputs": [],
   "source": [
    "gdp_pivoted = gdp_pivoted.pivot_table(values='GDP_Per_Capita', index= 'Country', columns= 'Year').dropna()"
   ]
  },
  {
   "cell_type": "code",
   "execution_count": 24,
   "id": "7d70f351-63b7-4ee1-b126-7b0790d2545a",
   "metadata": {},
   "outputs": [],
   "source": [
    "gdp_pivoted = gdp_pivoted.assign(Percent_Change=((gdp_pivoted[2021] - gdp_pivoted[1990]) / gdp_pivoted[1990]) * 100)"
   ]
  },
  {
   "cell_type": "markdown",
   "id": "956e9fa3-c894-4ce7-af66-1a49246c402e",
   "metadata": {},
   "source": [
    "How many countries experienced a negative percent change in GDP per capita from 1990 to 2021?"
   ]
  },
  {
   "cell_type": "code",
   "execution_count": 26,
   "id": "af9cbff4-3b40-4383-9a8f-b43277585e4a",
   "metadata": {},
   "outputs": [
    {
     "data": {
      "text/plain": [
       "Year\n",
       "1990              19\n",
       "2021              19\n",
       "Percent_Change    19\n",
       "dtype: int64"
      ]
     },
     "execution_count": 26,
     "metadata": {},
     "output_type": "execute_result"
    }
   ],
   "source": [
    "gdp_pivoted[gdp_pivoted['Percent_Change'] < 0].sort_values(by='Percent_Change').count()"
   ]
  },
  {
   "cell_type": "markdown",
   "id": "fda10ae6-1394-4c86-9c14-594a38f4483b",
   "metadata": {},
   "source": [
    "Which country had the highest % change in GDP per capita? Create a line plot showing this country's GDP per capita for all years from 1990 to 2018. Create another showing the country with the second highest % change in GDP. How do the trends in these countries compare?\n",
    "Bonus: Put both line charts on the same plot."
   ]
  },
  {
   "cell_type": "code",
   "execution_count": 28,
   "id": "b20bd152-294f-4e12-b711-be6a7c316876",
   "metadata": {},
   "outputs": [
    {
     "data": {
      "text/plain": [
       "Country\n",
       "Burundi                                         -39.236385\n",
       "Dem. Rep. Congo                                 -38.654906\n",
       "Congo                                           -35.406695\n",
       "United Arab Emirates                            -34.147317\n",
       "Central African Republic                        -30.243599\n",
       "                                                  ...     \n",
       "Myanmar                                         593.351678\n",
       "East Asia & Pacific (IDA & IBRD)                602.726652\n",
       "East Asia & Pacific (excluding high income)     603.268440\n",
       "China                                          1140.082904\n",
       "Equatorial Guinea                              1463.081870\n",
       "Name: Percent_Change, Length: 206, dtype: float64"
      ]
     },
     "execution_count": 28,
     "metadata": {},
     "output_type": "execute_result"
    }
   ],
   "source": [
    "gdp_pivoted['Percent_Change'].sort_values(ascending = True)"
   ]
  },
  {
   "cell_type": "code",
   "execution_count": 29,
   "id": "9a97bfa3-569a-4da3-a692-397ac4ec3439",
   "metadata": {},
   "outputs": [],
   "source": [
    "eg_df = gdp_df[gdp_df['Country'] == 'Equatorial Guinea']\n",
    "eg_df = eg_df[(eg_df['Year'] >= 1990) & (eg_df['Year'] <= 2021)]"
   ]
  },
  {
   "cell_type": "code",
   "execution_count": 30,
   "id": "c695eb10-9698-4102-bfc9-1d61c06dd7ab",
   "metadata": {},
   "outputs": [],
   "source": [
    "china_df = gdp_df[gdp_df['Country'] == 'China']\n",
    "china_df = china_df[(china_df['Year'] >= 1990) & (china_df['Year'] <= 2021)]"
   ]
  },
  {
   "cell_type": "code",
   "execution_count": 31,
   "id": "07c75cf1-3153-4648-8f01-1184ae48920a",
   "metadata": {},
   "outputs": [],
   "source": [
    "eg_df.set_index('Year', inplace=True)\n",
    "china_df.set_index('Year', inplace=True)"
   ]
  },
  {
   "cell_type": "code",
   "execution_count": 32,
   "id": "25983ca9-848d-4340-8c7f-5b9ca882e499",
   "metadata": {},
   "outputs": [
    {
     "data": {
      "image/png": "[encoded data removed]",
      "text/plain": [
       "<Figure size 1000x600 with 1 Axes>"
      ]
     },
     "metadata": {},
     "output_type": "display_data"
    }
   ],
   "source": [
    "plt.figure(figsize=(10, 6))\n",
    "eg_df.plot(kind='line', y='GDP_Per_Capita', ax=plt.gca(), label='Equatorial Guinea', color='blue')\n",
    "china_df.plot(kind='line',y='GDP_Per_Capita', ax=plt.gca(), label='China', color='red')\n",
    "plt.title('GDP of Equatorial Guinea & China from 1990 to 2021')\n",
    "plt.xlabel('Year'), plt.ylabel('GDP per Capita')\n",
    "plt.legend()\n",
    "plt.grid()"
   ]
  },
  {
   "cell_type": "markdown",
   "id": "06f18ea6-fce4-435e-b37b-94217037c664",
   "metadata": {},
   "source": [
    "Read in continents.csv contained in the data folder into a new dataframe called continents. We will be using this dataframe to add a new column to our dataset."
   ]
  },
  {
   "cell_type": "code",
   "execution_count": 34,
   "id": "6124c93c-8872-4249-9b6e-91613fa84795",
   "metadata": {},
   "outputs": [],
   "source": [
    "continents = pd.read_csv(\"../data/continents.csv\")"
   ]
  },
  {
   "cell_type": "markdown",
   "id": "154977a8-e34b-45f7-a2a7-f7ffcdd624be",
   "metadata": {},
   "source": [
    "Merge gdp_df and continents. Keep only the countries that appear in both data frames. Save the result back to gdp_df."
   ]
  },
  {
   "cell_type": "code",
   "execution_count": 36,
   "id": "d6cd214e-2807-426a-b9b1-e354f876f1ea",
   "metadata": {},
   "outputs": [],
   "source": [
    "gdp_df = pd.merge(gdp_df, continents, on='Country', how='inner')"
   ]
  },
  {
   "cell_type": "markdown",
   "id": "f5f40a90-1291-4fc5-b7fa-0eaa7cb09a80",
   "metadata": {},
   "source": [
    "Determine the number of countries per continent. Create a bar chart showing this."
   ]
  },
  {
   "cell_type": "code",
   "execution_count": 38,
   "id": "5bbf4804-0c38-4d23-986b-7d85efb22b94",
   "metadata": {},
   "outputs": [],
   "source": [
    "continent_country_df = gdp_df.groupby('Continent')['Country'].nunique()"
   ]
  },
  {
   "cell_type": "code",
   "execution_count": 39,
   "id": "3ed478fd-6929-468f-9fb8-5393c471dd8e",
   "metadata": {},
   "outputs": [
    {
     "data": {
      "image/png": "[encoded data removed]",
      "text/plain": [
       "<Figure size 640x480 with 1 Axes>"
      ]
     },
     "metadata": {},
     "output_type": "display_data"
    }
   ],
   "source": [
    "continent_country_df.plot(kind='bar', color='blue')\n",
    "plt.xlabel('Continents')\n",
    "plt.ylabel('Number of Countries')\n",
    "plt.title('Number of Countries per Continent')\n",
    "plt.xticks(rotation=45);"
   ]
  },
  {
   "cell_type": "markdown",
   "id": "3254f474-1180-4259-abf5-d2ac8bfff31b",
   "metadata": {},
   "source": [
    "Create a seaborn boxplot showing GDP per capita in 2021 split out by continent. What do you notice?"
   ]
  },
  {
   "cell_type": "code",
   "execution_count": 41,
   "id": "fda17c8f-45c8-437a-9305-da95b9d23de6",
   "metadata": {},
   "outputs": [
    {
     "data": {
      "image/png": "[encoded data removed]",
      "text/plain": [
       "<Figure size 1000x600 with 1 Axes>"
      ]
     },
     "metadata": {},
     "output_type": "display_data"
    }
   ],
   "source": [
    "boxplot_continent = pd.merge(gdp_2021, continents, on = 'Country', how= 'inner')\n",
    "\n",
    "plt.figure(figsize=(10, 6))\n",
    "sns.boxplot(x='Continent', y='GDP_Per_Capita', width= 0.75,\n",
    "            hue ='Continent', data=boxplot_continent, palette='flare')\n",
    "plt.xlabel('Continents')\n",
    "plt.ylabel('GDP per Capita')\n",
    "plt.title('Distribution of GDP per Capita by Continent in 2021')\n",
    "plt.xticks(rotation=0);"
   ]
  },
  {
   "cell_type": "markdown",
   "id": "a8a7a606-789f-4f9b-912f-d929fd38bdce",
   "metadata": {},
   "source": [
    "Download the full csv containing Life expectancy at birth, total (years) from https://data.worldbank.org/indicator/SP.DYN.LE00.IN?name_desc=false. Read this data into a DataFrame named life_expectancy. Note: When reading this dataset it, you may encounter an error. Modify your read_csv call to correct this without modifying the original csv file."
   ]
  },
  {
   "cell_type": "code",
   "execution_count": 43,
   "id": "d238f272-08e9-4bb4-93b0-fc785c29d7b0",
   "metadata": {},
   "outputs": [],
   "source": [
    "life_expectancy = pd.read_csv(\"../data/life_expectancy.csv\",skiprows=3)"
   ]
  },
  {
   "cell_type": "code",
   "execution_count": 44,
   "id": "f99962af-015d-4f6e-9004-12f89a6260a1",
   "metadata": {},
   "outputs": [],
   "source": [
    "value_vars = life_expectancy.columns.difference(['Country Name'])"
   ]
  },
  {
   "cell_type": "code",
   "execution_count": 45,
   "id": "da782db5-42b2-42b1-b46d-c7b6dfb1d4bc",
   "metadata": {
    "scrolled": true
   },
   "outputs": [
    {
     "data": {
      "text/html": [
       "<div>\n",
       "<style scoped>\n",
       "    .dataframe tbody tr th:only-of-type {\n",
       "        vertical-align: middle;\n",
       "    }\n",
       "\n",
       "    .dataframe tbody tr th {\n",
       "        vertical-align: top;\n",
       "    }\n",
       "\n",
       "    .dataframe thead th {\n",
       "        text-align: right;\n",
       "    }\n",
       "</style>\n",
       "<table border=\"1\" class=\"dataframe\">\n",
       "  <thead>\n",
       "    <tr style=\"text-align: right;\">\n",
       "      <th></th>\n",
       "      <th>Country Name</th>\n",
       "      <th>1960</th>\n",
       "      <th>1961</th>\n",
       "      <th>1962</th>\n",
       "      <th>1963</th>\n",
       "      <th>1964</th>\n",
       "      <th>1965</th>\n",
       "      <th>1966</th>\n",
       "      <th>1967</th>\n",
       "      <th>1968</th>\n",
       "      <th>...</th>\n",
       "      <th>2014</th>\n",
       "      <th>2015</th>\n",
       "      <th>2016</th>\n",
       "      <th>2017</th>\n",
       "      <th>2018</th>\n",
       "      <th>2019</th>\n",
       "      <th>2020</th>\n",
       "      <th>2021</th>\n",
       "      <th>2022</th>\n",
       "      <th>2023</th>\n",
       "    </tr>\n",
       "  </thead>\n",
       "  <tbody>\n",
       "    <tr>\n",
       "      <th>0</th>\n",
       "      <td>Aruba</td>\n",
       "      <td>64.152000</td>\n",
       "      <td>64.537000</td>\n",
       "      <td>64.752000</td>\n",
       "      <td>65.132000</td>\n",
       "      <td>65.294000</td>\n",
       "      <td>65.502000</td>\n",
       "      <td>66.063000</td>\n",
       "      <td>66.439000</td>\n",
       "      <td>66.757000</td>\n",
       "      <td>...</td>\n",
       "      <td>75.601000</td>\n",
       "      <td>75.683000</td>\n",
       "      <td>75.617000</td>\n",
       "      <td>75.903000</td>\n",
       "      <td>76.072000</td>\n",
       "      <td>76.248000</td>\n",
       "      <td>75.723000</td>\n",
       "      <td>74.626000</td>\n",
       "      <td>74.992000</td>\n",
       "      <td>NaN</td>\n",
       "    </tr>\n",
       "    <tr>\n",
       "      <th>1</th>\n",
       "      <td>Africa Eastern and Southern</td>\n",
       "      <td>44.085552</td>\n",
       "      <td>44.386697</td>\n",
       "      <td>44.752182</td>\n",
       "      <td>44.913159</td>\n",
       "      <td>45.479043</td>\n",
       "      <td>45.498338</td>\n",
       "      <td>45.249105</td>\n",
       "      <td>45.924905</td>\n",
       "      <td>46.223097</td>\n",
       "      <td>...</td>\n",
       "      <td>61.337917</td>\n",
       "      <td>61.856458</td>\n",
       "      <td>62.444050</td>\n",
       "      <td>62.922390</td>\n",
       "      <td>63.365863</td>\n",
       "      <td>63.755678</td>\n",
       "      <td>63.313860</td>\n",
       "      <td>62.454590</td>\n",
       "      <td>62.899031</td>\n",
       "      <td>NaN</td>\n",
       "    </tr>\n",
       "    <tr>\n",
       "      <th>2</th>\n",
       "      <td>Afghanistan</td>\n",
       "      <td>32.535000</td>\n",
       "      <td>33.068000</td>\n",
       "      <td>33.547000</td>\n",
       "      <td>34.016000</td>\n",
       "      <td>34.494000</td>\n",
       "      <td>34.953000</td>\n",
       "      <td>35.453000</td>\n",
       "      <td>35.924000</td>\n",
       "      <td>36.418000</td>\n",
       "      <td>...</td>\n",
       "      <td>62.545000</td>\n",
       "      <td>62.659000</td>\n",
       "      <td>63.136000</td>\n",
       "      <td>63.016000</td>\n",
       "      <td>63.081000</td>\n",
       "      <td>63.565000</td>\n",
       "      <td>62.575000</td>\n",
       "      <td>61.982000</td>\n",
       "      <td>62.879000</td>\n",
       "      <td>NaN</td>\n",
       "    </tr>\n",
       "    <tr>\n",
       "      <th>3</th>\n",
       "      <td>Africa Western and Central</td>\n",
       "      <td>37.845152</td>\n",
       "      <td>38.164950</td>\n",
       "      <td>38.735102</td>\n",
       "      <td>39.063715</td>\n",
       "      <td>39.335360</td>\n",
       "      <td>39.618038</td>\n",
       "      <td>39.837827</td>\n",
       "      <td>39.471500</td>\n",
       "      <td>40.085679</td>\n",
       "      <td>...</td>\n",
       "      <td>55.922229</td>\n",
       "      <td>56.195872</td>\n",
       "      <td>56.581678</td>\n",
       "      <td>56.888446</td>\n",
       "      <td>57.189139</td>\n",
       "      <td>57.555796</td>\n",
       "      <td>57.226373</td>\n",
       "      <td>56.988657</td>\n",
       "      <td>57.626176</td>\n",
       "      <td>NaN</td>\n",
       "    </tr>\n",
       "    <tr>\n",
       "      <th>4</th>\n",
       "      <td>Angola</td>\n",
       "      <td>38.211000</td>\n",
       "      <td>37.267000</td>\n",
       "      <td>37.539000</td>\n",
       "      <td>37.824000</td>\n",
       "      <td>38.131000</td>\n",
       "      <td>38.495000</td>\n",
       "      <td>38.757000</td>\n",
       "      <td>39.092000</td>\n",
       "      <td>39.484000</td>\n",
       "      <td>...</td>\n",
       "      <td>60.040000</td>\n",
       "      <td>60.655000</td>\n",
       "      <td>61.092000</td>\n",
       "      <td>61.680000</td>\n",
       "      <td>62.144000</td>\n",
       "      <td>62.448000</td>\n",
       "      <td>62.261000</td>\n",
       "      <td>61.643000</td>\n",
       "      <td>61.929000</td>\n",
       "      <td>NaN</td>\n",
       "    </tr>\n",
       "    <tr>\n",
       "      <th>...</th>\n",
       "      <td>...</td>\n",
       "      <td>...</td>\n",
       "      <td>...</td>\n",
       "      <td>...</td>\n",
       "      <td>...</td>\n",
       "      <td>...</td>\n",
       "      <td>...</td>\n",
       "      <td>...</td>\n",
       "      <td>...</td>\n",
       "      <td>...</td>\n",
       "      <td>...</td>\n",
       "      <td>...</td>\n",
       "      <td>...</td>\n",
       "      <td>...</td>\n",
       "      <td>...</td>\n",
       "      <td>...</td>\n",
       "      <td>...</td>\n",
       "      <td>...</td>\n",
       "      <td>...</td>\n",
       "      <td>...</td>\n",
       "      <td>...</td>\n",
       "    </tr>\n",
       "    <tr>\n",
       "      <th>261</th>\n",
       "      <td>Kosovo</td>\n",
       "      <td>61.485000</td>\n",
       "      <td>61.836000</td>\n",
       "      <td>62.134000</td>\n",
       "      <td>62.440000</td>\n",
       "      <td>62.734000</td>\n",
       "      <td>63.041000</td>\n",
       "      <td>63.323000</td>\n",
       "      <td>63.653000</td>\n",
       "      <td>63.935000</td>\n",
       "      <td>...</td>\n",
       "      <td>78.880000</td>\n",
       "      <td>78.922000</td>\n",
       "      <td>78.981000</td>\n",
       "      <td>78.783000</td>\n",
       "      <td>78.696000</td>\n",
       "      <td>79.022000</td>\n",
       "      <td>76.567000</td>\n",
       "      <td>76.806000</td>\n",
       "      <td>79.524000</td>\n",
       "      <td>NaN</td>\n",
       "    </tr>\n",
       "    <tr>\n",
       "      <th>262</th>\n",
       "      <td>Yemen, Rep.</td>\n",
       "      <td>33.678000</td>\n",
       "      <td>34.098000</td>\n",
       "      <td>33.615000</td>\n",
       "      <td>33.247000</td>\n",
       "      <td>34.738000</td>\n",
       "      <td>35.373000</td>\n",
       "      <td>36.097000</td>\n",
       "      <td>36.866000</td>\n",
       "      <td>37.796000</td>\n",
       "      <td>...</td>\n",
       "      <td>67.384000</td>\n",
       "      <td>65.873000</td>\n",
       "      <td>66.064000</td>\n",
       "      <td>65.957000</td>\n",
       "      <td>64.575000</td>\n",
       "      <td>65.092000</td>\n",
       "      <td>64.650000</td>\n",
       "      <td>63.753000</td>\n",
       "      <td>63.720000</td>\n",
       "      <td>NaN</td>\n",
       "    </tr>\n",
       "    <tr>\n",
       "      <th>263</th>\n",
       "      <td>South Africa</td>\n",
       "      <td>52.669000</td>\n",
       "      <td>53.085000</td>\n",
       "      <td>53.376000</td>\n",
       "      <td>53.633000</td>\n",
       "      <td>53.906000</td>\n",
       "      <td>54.192000</td>\n",
       "      <td>54.391000</td>\n",
       "      <td>54.626000</td>\n",
       "      <td>54.876000</td>\n",
       "      <td>...</td>\n",
       "      <td>63.380000</td>\n",
       "      <td>63.950000</td>\n",
       "      <td>64.747000</td>\n",
       "      <td>65.402000</td>\n",
       "      <td>65.674000</td>\n",
       "      <td>66.175000</td>\n",
       "      <td>65.252000</td>\n",
       "      <td>62.341000</td>\n",
       "      <td>61.480000</td>\n",
       "      <td>NaN</td>\n",
       "    </tr>\n",
       "    <tr>\n",
       "      <th>264</th>\n",
       "      <td>Zambia</td>\n",
       "      <td>49.042000</td>\n",
       "      <td>49.452000</td>\n",
       "      <td>49.794000</td>\n",
       "      <td>50.133000</td>\n",
       "      <td>49.849000</td>\n",
       "      <td>50.563000</td>\n",
       "      <td>50.679000</td>\n",
       "      <td>50.802000</td>\n",
       "      <td>50.856000</td>\n",
       "      <td>...</td>\n",
       "      <td>60.699000</td>\n",
       "      <td>61.208000</td>\n",
       "      <td>61.794000</td>\n",
       "      <td>62.120000</td>\n",
       "      <td>62.342000</td>\n",
       "      <td>62.793000</td>\n",
       "      <td>62.380000</td>\n",
       "      <td>61.223000</td>\n",
       "      <td>61.803000</td>\n",
       "      <td>NaN</td>\n",
       "    </tr>\n",
       "    <tr>\n",
       "      <th>265</th>\n",
       "      <td>Zimbabwe</td>\n",
       "      <td>53.235000</td>\n",
       "      <td>53.619000</td>\n",
       "      <td>54.071000</td>\n",
       "      <td>54.549000</td>\n",
       "      <td>54.994000</td>\n",
       "      <td>55.459000</td>\n",
       "      <td>55.889000</td>\n",
       "      <td>56.188000</td>\n",
       "      <td>56.455000</td>\n",
       "      <td>...</td>\n",
       "      <td>58.846000</td>\n",
       "      <td>59.591000</td>\n",
       "      <td>60.306000</td>\n",
       "      <td>60.709000</td>\n",
       "      <td>61.414000</td>\n",
       "      <td>61.292000</td>\n",
       "      <td>61.124000</td>\n",
       "      <td>59.253000</td>\n",
       "      <td>59.391000</td>\n",
       "      <td>NaN</td>\n",
       "    </tr>\n",
       "  </tbody>\n",
       "</table>\n",
       "<p>266 rows × 65 columns</p>\n",
       "</div>"
      ],
      "text/plain": [
       "                    Country Name       1960       1961       1962       1963  \\\n",
       "0                          Aruba  64.152000  64.537000  64.752000  65.132000   \n",
       "1    Africa Eastern and Southern  44.085552  44.386697  44.752182  44.913159   \n",
       "2                    Afghanistan  32.535000  33.068000  33.547000  34.016000   \n",
       "3     Africa Western and Central  37.845152  38.164950  38.735102  39.063715   \n",
       "4                         Angola  38.211000  37.267000  37.539000  37.824000   \n",
       "..                           ...        ...        ...        ...        ...   \n",
       "261                       Kosovo  61.485000  61.836000  62.134000  62.440000   \n",
       "262                  Yemen, Rep.  33.678000  34.098000  33.615000  33.247000   \n",
       "263                 South Africa  52.669000  53.085000  53.376000  53.633000   \n",
       "264                       Zambia  49.042000  49.452000  49.794000  50.133000   \n",
       "265                     Zimbabwe  53.235000  53.619000  54.071000  54.549000   \n",
       "\n",
       "          1964       1965       1966       1967       1968  ...       2014  \\\n",
       "0    65.294000  65.502000  66.063000  66.439000  66.757000  ...  75.601000   \n",
       "1    45.479043  45.498338  45.249105  45.924905  46.223097  ...  61.337917   \n",
       "2    34.494000  34.953000  35.453000  35.924000  36.418000  ...  62.545000   \n",
       "3    39.335360  39.618038  39.837827  39.471500  40.085679  ...  55.922229   \n",
       "4    38.131000  38.495000  38.757000  39.092000  39.484000  ...  60.040000   \n",
       "..         ...        ...        ...        ...        ...  ...        ...   \n",
       "261  62.734000  63.041000  63.323000  63.653000  63.935000  ...  78.880000   \n",
       "262  34.738000  35.373000  36.097000  36.866000  37.796000  ...  67.384000   \n",
       "263  53.906000  54.192000  54.391000  54.626000  54.876000  ...  63.380000   \n",
       "264  49.849000  50.563000  50.679000  50.802000  50.856000  ...  60.699000   \n",
       "265  54.994000  55.459000  55.889000  56.188000  56.455000  ...  58.846000   \n",
       "\n",
       "          2015       2016       2017       2018       2019       2020  \\\n",
       "0    75.683000  75.617000  75.903000  76.072000  76.248000  75.723000   \n",
       "1    61.856458  62.444050  62.922390  63.365863  63.755678  63.313860   \n",
       "2    62.659000  63.136000  63.016000  63.081000  63.565000  62.575000   \n",
       "3    56.195872  56.581678  56.888446  57.189139  57.555796  57.226373   \n",
       "4    60.655000  61.092000  61.680000  62.144000  62.448000  62.261000   \n",
       "..         ...        ...        ...        ...        ...        ...   \n",
       "261  78.922000  78.981000  78.783000  78.696000  79.022000  76.567000   \n",
       "262  65.873000  66.064000  65.957000  64.575000  65.092000  64.650000   \n",
       "263  63.950000  64.747000  65.402000  65.674000  66.175000  65.252000   \n",
       "264  61.208000  61.794000  62.120000  62.342000  62.793000  62.380000   \n",
       "265  59.591000  60.306000  60.709000  61.414000  61.292000  61.124000   \n",
       "\n",
       "          2021       2022  2023  \n",
       "0    74.626000  74.992000   NaN  \n",
       "1    62.454590  62.899031   NaN  \n",
       "2    61.982000  62.879000   NaN  \n",
       "3    56.988657  57.626176   NaN  \n",
       "4    61.643000  61.929000   NaN  \n",
       "..         ...        ...   ...  \n",
       "261  76.806000  79.524000   NaN  \n",
       "262  63.753000  63.720000   NaN  \n",
       "263  62.341000  61.480000   NaN  \n",
       "264  61.223000  61.803000   NaN  \n",
       "265  59.253000  59.391000   NaN  \n",
       "\n",
       "[266 rows x 65 columns]"
      ]
     },
     "execution_count": 45,
     "metadata": {},
     "output_type": "execute_result"
    }
   ],
   "source": [
    "life_expectancy.drop(['Country Code', 'Indicator Code', 'Indicator Name','Unnamed: 68'],axis=1)"
   ]
  },
  {
   "cell_type": "code",
   "execution_count": 46,
   "id": "47bb4703-64f5-49c5-b884-ae85dd8c45ff",
   "metadata": {
    "scrolled": true
   },
   "outputs": [
    {
     "data": {
      "text/html": [
       "<div>\n",
       "<style scoped>\n",
       "    .dataframe tbody tr th:only-of-type {\n",
       "        vertical-align: middle;\n",
       "    }\n",
       "\n",
       "    .dataframe tbody tr th {\n",
       "        vertical-align: top;\n",
       "    }\n",
       "\n",
       "    .dataframe thead th {\n",
       "        text-align: right;\n",
       "    }\n",
       "</style>\n",
       "<table border=\"1\" class=\"dataframe\">\n",
       "  <thead>\n",
       "    <tr style=\"text-align: right;\">\n",
       "      <th></th>\n",
       "      <th>Country Name</th>\n",
       "      <th>Year</th>\n",
       "      <th>Life Expectancy</th>\n",
       "    </tr>\n",
       "  </thead>\n",
       "  <tbody>\n",
       "    <tr>\n",
       "      <th>0</th>\n",
       "      <td>Aruba</td>\n",
       "      <td>1960</td>\n",
       "      <td>64.152</td>\n",
       "    </tr>\n",
       "    <tr>\n",
       "      <th>1</th>\n",
       "      <td>Africa Eastern and Southern</td>\n",
       "      <td>1960</td>\n",
       "      <td>44.085552</td>\n",
       "    </tr>\n",
       "    <tr>\n",
       "      <th>2</th>\n",
       "      <td>Afghanistan</td>\n",
       "      <td>1960</td>\n",
       "      <td>32.535</td>\n",
       "    </tr>\n",
       "    <tr>\n",
       "      <th>3</th>\n",
       "      <td>Africa Western and Central</td>\n",
       "      <td>1960</td>\n",
       "      <td>37.845152</td>\n",
       "    </tr>\n",
       "    <tr>\n",
       "      <th>4</th>\n",
       "      <td>Angola</td>\n",
       "      <td>1960</td>\n",
       "      <td>38.211</td>\n",
       "    </tr>\n",
       "    <tr>\n",
       "      <th>...</th>\n",
       "      <td>...</td>\n",
       "      <td>...</td>\n",
       "      <td>...</td>\n",
       "    </tr>\n",
       "    <tr>\n",
       "      <th>18083</th>\n",
       "      <td>Kosovo</td>\n",
       "      <td>Unnamed: 68</td>\n",
       "      <td>NaN</td>\n",
       "    </tr>\n",
       "    <tr>\n",
       "      <th>18084</th>\n",
       "      <td>Yemen, Rep.</td>\n",
       "      <td>Unnamed: 68</td>\n",
       "      <td>NaN</td>\n",
       "    </tr>\n",
       "    <tr>\n",
       "      <th>18085</th>\n",
       "      <td>South Africa</td>\n",
       "      <td>Unnamed: 68</td>\n",
       "      <td>NaN</td>\n",
       "    </tr>\n",
       "    <tr>\n",
       "      <th>18086</th>\n",
       "      <td>Zambia</td>\n",
       "      <td>Unnamed: 68</td>\n",
       "      <td>NaN</td>\n",
       "    </tr>\n",
       "    <tr>\n",
       "      <th>18087</th>\n",
       "      <td>Zimbabwe</td>\n",
       "      <td>Unnamed: 68</td>\n",
       "      <td>NaN</td>\n",
       "    </tr>\n",
       "  </tbody>\n",
       "</table>\n",
       "<p>18088 rows × 3 columns</p>\n",
       "</div>"
      ],
      "text/plain": [
       "                      Country Name         Year Life Expectancy\n",
       "0                            Aruba         1960          64.152\n",
       "1      Africa Eastern and Southern         1960       44.085552\n",
       "2                      Afghanistan         1960          32.535\n",
       "3       Africa Western and Central         1960       37.845152\n",
       "4                           Angola         1960          38.211\n",
       "...                            ...          ...             ...\n",
       "18083                       Kosovo  Unnamed: 68             NaN\n",
       "18084                  Yemen, Rep.  Unnamed: 68             NaN\n",
       "18085                 South Africa  Unnamed: 68             NaN\n",
       "18086                       Zambia  Unnamed: 68             NaN\n",
       "18087                     Zimbabwe  Unnamed: 68             NaN\n",
       "\n",
       "[18088 rows x 3 columns]"
      ]
     },
     "execution_count": 46,
     "metadata": {},
     "output_type": "execute_result"
    }
   ],
   "source": [
    "life_expectancy.melt(id_vars=['Country Name'], value_vars=value_vars, var_name='Year', value_name= 'Life Expectancy')"
   ]
  },
  {
   "cell_type": "markdown",
   "id": "0075010e-44db-4649-aae0-578a8a394e12",
   "metadata": {},
   "source": [
    "Drop the Country Code, Indicator Name, and Indicator Code columns. Then use .melt() to convert your data from wide to long. That is, instead of having one row per country and multiple colums per year, we want to have multiple rows per country and a single column for year. After melting, rename the columns to Country, Year, and Life_Expectancy.\n",
    "\n",
    "What was the first country with a life expectancy to exceed 80?\n",
    "\n",
    "Merge gdp_df and life_expectancy, keeping all countries and years that appear in both DataFrames. Save the result to a new DataFrame named gdp_le. If you get any errors in doing this, read them carefully and correct them. Look at the first five rows of your new data frame to confirm it merged correctly. Also, check the last five rows to make sure the data is clean and as expected.\n",
    "\n",
    "Create a new DataFrame, named gdp_le_2021 by extracting data for the year 2021 from gdp_le. How many countries have a life expectancy of at least 80 in 2021?\n",
    "\n",
    "Find the countries that had the top 3 largest GDP per capita figures for 2021. .nlargest() \n",
    "Create a seaborn FacetGrid showing the change in life expectancy over time for these three countries. Each individual figure in the facet grid will represent a single country.\n",
    "\n",
    "Create a scatter plot of Life Expectancy vs GDP per Capita for the year 2021. What do you notice?\n",
    "\n",
    "Find the correlation between Life Expectancy and GDP per Capita for the year 2021. What is the meaning of this number?\n",
    "\n",
    "Add a column to gdp_le_2021 and calculate the logarithm of GDP per capita. Find the correlation between the log of GDP per capita and life expectancy. How does this compare to the calculation in the previous part? Look at a scatter plot to see if the result of this calculation makes sense.\n",
    "\n",
    "Bonus: Solo Exploration:\n",
    "Choose and download another data set from the UN data http://data.un.org/Explorer.aspx to explore. You may want to combine your new dataset with one or both of the datasets that you already worked with. Report any interesting correlations or trends that you find.\n",
    "If time allows, check out the plotly library to add additional interativity to your plots. https://plotly.com/python/plotly-express/."
   ]
  },
  {
   "cell_type": "code",
   "execution_count": null,
   "id": "c52a7ed3-c85f-4c85-a869-84dd2a1ba2e4",
   "metadata": {},
   "outputs": [],
   "source": []
  }
 ],
 "metadata": {
  "kernelspec": {
   "display_name": "Python 3 (ipykernel)",
   "language": "python",
   "name": "python3"
  },
  "language_info": {
   "codemirror_mode": {
    "name": "ipython",
    "version": 3
   },
   "file_extension": ".py",
   "mimetype": "text/x-python",
   "name": "python",
   "nbconvert_exporter": "python",
   "pygments_lexer": "ipython3",
   "version": "3.12.4"
  }
 },
 "nbformat": 4,
 "nbformat_minor": 5
}
